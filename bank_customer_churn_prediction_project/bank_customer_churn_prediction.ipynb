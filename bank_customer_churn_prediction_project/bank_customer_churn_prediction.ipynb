{
 "cells": [
  {
   "cell_type": "markdown",
   "metadata": {},
   "source": [
    "# Отток клиентов"
   ]
  },
  {
   "cell_type": "markdown",
   "metadata": {},
   "source": [
    "Из «Бета-Банка» стали уходить клиенты. Каждый месяц. Немного, но заметно. Банковские маркетологи посчитали: сохранять текущих клиентов дешевле, чем привлекать новых.\n",
    "\n",
    "Нужно спрогнозировать, уйдёт клиент из банка в ближайшее время или нет. Для прогноза предоставлены исторические данные о поведении клиентов и расторжении договоров с банком. \n",
    "\n",
    "Необходимо построить модель с предельно большим значением *F1*-меры. Для успешной сдачи проекта нужно довести метрику до значения 0.59. Также необходимо проверить *F1*-меру на тестовой выборке самостоятельно.\n",
    "\n",
    "Дополнительно в процессе работы требуется измерять *AUC-ROC*, сравнивать её значение с *F1*-мерой.\n",
    "\n",
    "Источник данных: [https://www.kaggle.com/barelydedicated/bank-customer-churn-modeling](https://www.kaggle.com/barelydedicated/bank-customer-churn-modeling)"
   ]
  },
  {
   "cell_type": "markdown",
   "metadata": {},
   "source": [
    "## Подготовка данных"
   ]
  },
  {
   "cell_type": "markdown",
   "metadata": {},
   "source": [
    "### Загрузка и предварительный анализ данных"
   ]
  },
  {
   "cell_type": "markdown",
   "metadata": {},
   "source": [
    "Импортируем требуемые для работы модули (библиотеки)."
   ]
  },
  {
   "cell_type": "code",
   "execution_count": 1,
   "metadata": {},
   "outputs": [],
   "source": [
    "# импортируем необходимые библиотеки\n",
    "import pandas as pd\n",
    "import matplotlib.pyplot as plt\n",
    "from sklearn.preprocessing import OneHotEncoder, StandardScaler\n",
    "from sklearn.model_selection import train_test_split\n",
    "from sklearn.metrics import f1_score, roc_auc_score, roc_curve\n",
    "from sklearn.linear_model import LogisticRegression\n",
    "from sklearn.ensemble import RandomForestClassifier\n",
    "from sklearn.tree import DecisionTreeClassifier\n",
    "from sklearn.utils import shuffle"
   ]
  },
  {
   "cell_type": "markdown",
   "metadata": {},
   "source": [
    "Определим требуемые глобальные переменные."
   ]
  },
  {
   "cell_type": "code",
   "execution_count": 2,
   "metadata": {},
   "outputs": [],
   "source": [
    "RANDOM_STATE_CONST = 42"
   ]
  },
  {
   "cell_type": "markdown",
   "metadata": {},
   "source": [
    "Загрузим исходные данные из датасета в переменную (датафрейм) `data`."
   ]
  },
  {
   "cell_type": "code",
   "execution_count": 3,
   "metadata": {},
   "outputs": [],
   "source": [
    "# загрузим данные из датасета в датафрейм data\n",
    "data = pd.read_csv('/datasets/Churn.csv')\n",
    "# data = pd.read_csv('datasets/Churn.csv')"
   ]
  },
  {
   "cell_type": "markdown",
   "metadata": {},
   "source": [
    "Проведем предварительный анализ исходных данных."
   ]
  },
  {
   "cell_type": "code",
   "execution_count": 4,
   "metadata": {
    "scrolled": true
   },
   "outputs": [
    {
     "data": {
      "text/html": [
       "<div>\n",
       "<style scoped>\n",
       "    .dataframe tbody tr th:only-of-type {\n",
       "        vertical-align: middle;\n",
       "    }\n",
       "\n",
       "    .dataframe tbody tr th {\n",
       "        vertical-align: top;\n",
       "    }\n",
       "\n",
       "    .dataframe thead th {\n",
       "        text-align: right;\n",
       "    }\n",
       "</style>\n",
       "<table border=\"1\" class=\"dataframe\">\n",
       "  <thead>\n",
       "    <tr style=\"text-align: right;\">\n",
       "      <th></th>\n",
       "      <th>RowNumber</th>\n",
       "      <th>CustomerId</th>\n",
       "      <th>Surname</th>\n",
       "      <th>CreditScore</th>\n",
       "      <th>Geography</th>\n",
       "      <th>Gender</th>\n",
       "      <th>Age</th>\n",
       "      <th>Tenure</th>\n",
       "      <th>Balance</th>\n",
       "      <th>NumOfProducts</th>\n",
       "      <th>HasCrCard</th>\n",
       "      <th>IsActiveMember</th>\n",
       "      <th>EstimatedSalary</th>\n",
       "      <th>Exited</th>\n",
       "    </tr>\n",
       "  </thead>\n",
       "  <tbody>\n",
       "    <tr>\n",
       "      <th>0</th>\n",
       "      <td>1</td>\n",
       "      <td>15634602</td>\n",
       "      <td>Hargrave</td>\n",
       "      <td>619</td>\n",
       "      <td>France</td>\n",
       "      <td>Female</td>\n",
       "      <td>42</td>\n",
       "      <td>2.0</td>\n",
       "      <td>0.00</td>\n",
       "      <td>1</td>\n",
       "      <td>1</td>\n",
       "      <td>1</td>\n",
       "      <td>101348.88</td>\n",
       "      <td>1</td>\n",
       "    </tr>\n",
       "    <tr>\n",
       "      <th>1</th>\n",
       "      <td>2</td>\n",
       "      <td>15647311</td>\n",
       "      <td>Hill</td>\n",
       "      <td>608</td>\n",
       "      <td>Spain</td>\n",
       "      <td>Female</td>\n",
       "      <td>41</td>\n",
       "      <td>1.0</td>\n",
       "      <td>83807.86</td>\n",
       "      <td>1</td>\n",
       "      <td>0</td>\n",
       "      <td>1</td>\n",
       "      <td>112542.58</td>\n",
       "      <td>0</td>\n",
       "    </tr>\n",
       "    <tr>\n",
       "      <th>2</th>\n",
       "      <td>3</td>\n",
       "      <td>15619304</td>\n",
       "      <td>Onio</td>\n",
       "      <td>502</td>\n",
       "      <td>France</td>\n",
       "      <td>Female</td>\n",
       "      <td>42</td>\n",
       "      <td>8.0</td>\n",
       "      <td>159660.80</td>\n",
       "      <td>3</td>\n",
       "      <td>1</td>\n",
       "      <td>0</td>\n",
       "      <td>113931.57</td>\n",
       "      <td>1</td>\n",
       "    </tr>\n",
       "    <tr>\n",
       "      <th>3</th>\n",
       "      <td>4</td>\n",
       "      <td>15701354</td>\n",
       "      <td>Boni</td>\n",
       "      <td>699</td>\n",
       "      <td>France</td>\n",
       "      <td>Female</td>\n",
       "      <td>39</td>\n",
       "      <td>1.0</td>\n",
       "      <td>0.00</td>\n",
       "      <td>2</td>\n",
       "      <td>0</td>\n",
       "      <td>0</td>\n",
       "      <td>93826.63</td>\n",
       "      <td>0</td>\n",
       "    </tr>\n",
       "    <tr>\n",
       "      <th>4</th>\n",
       "      <td>5</td>\n",
       "      <td>15737888</td>\n",
       "      <td>Mitchell</td>\n",
       "      <td>850</td>\n",
       "      <td>Spain</td>\n",
       "      <td>Female</td>\n",
       "      <td>43</td>\n",
       "      <td>2.0</td>\n",
       "      <td>125510.82</td>\n",
       "      <td>1</td>\n",
       "      <td>1</td>\n",
       "      <td>1</td>\n",
       "      <td>79084.10</td>\n",
       "      <td>0</td>\n",
       "    </tr>\n",
       "    <tr>\n",
       "      <th>5</th>\n",
       "      <td>6</td>\n",
       "      <td>15574012</td>\n",
       "      <td>Chu</td>\n",
       "      <td>645</td>\n",
       "      <td>Spain</td>\n",
       "      <td>Male</td>\n",
       "      <td>44</td>\n",
       "      <td>8.0</td>\n",
       "      <td>113755.78</td>\n",
       "      <td>2</td>\n",
       "      <td>1</td>\n",
       "      <td>0</td>\n",
       "      <td>149756.71</td>\n",
       "      <td>1</td>\n",
       "    </tr>\n",
       "    <tr>\n",
       "      <th>6</th>\n",
       "      <td>7</td>\n",
       "      <td>15592531</td>\n",
       "      <td>Bartlett</td>\n",
       "      <td>822</td>\n",
       "      <td>France</td>\n",
       "      <td>Male</td>\n",
       "      <td>50</td>\n",
       "      <td>7.0</td>\n",
       "      <td>0.00</td>\n",
       "      <td>2</td>\n",
       "      <td>1</td>\n",
       "      <td>1</td>\n",
       "      <td>10062.80</td>\n",
       "      <td>0</td>\n",
       "    </tr>\n",
       "    <tr>\n",
       "      <th>7</th>\n",
       "      <td>8</td>\n",
       "      <td>15656148</td>\n",
       "      <td>Obinna</td>\n",
       "      <td>376</td>\n",
       "      <td>Germany</td>\n",
       "      <td>Female</td>\n",
       "      <td>29</td>\n",
       "      <td>4.0</td>\n",
       "      <td>115046.74</td>\n",
       "      <td>4</td>\n",
       "      <td>1</td>\n",
       "      <td>0</td>\n",
       "      <td>119346.88</td>\n",
       "      <td>1</td>\n",
       "    </tr>\n",
       "    <tr>\n",
       "      <th>8</th>\n",
       "      <td>9</td>\n",
       "      <td>15792365</td>\n",
       "      <td>He</td>\n",
       "      <td>501</td>\n",
       "      <td>France</td>\n",
       "      <td>Male</td>\n",
       "      <td>44</td>\n",
       "      <td>4.0</td>\n",
       "      <td>142051.07</td>\n",
       "      <td>2</td>\n",
       "      <td>0</td>\n",
       "      <td>1</td>\n",
       "      <td>74940.50</td>\n",
       "      <td>0</td>\n",
       "    </tr>\n",
       "    <tr>\n",
       "      <th>9</th>\n",
       "      <td>10</td>\n",
       "      <td>15592389</td>\n",
       "      <td>H?</td>\n",
       "      <td>684</td>\n",
       "      <td>France</td>\n",
       "      <td>Male</td>\n",
       "      <td>27</td>\n",
       "      <td>2.0</td>\n",
       "      <td>134603.88</td>\n",
       "      <td>1</td>\n",
       "      <td>1</td>\n",
       "      <td>1</td>\n",
       "      <td>71725.73</td>\n",
       "      <td>0</td>\n",
       "    </tr>\n",
       "  </tbody>\n",
       "</table>\n",
       "</div>"
      ],
      "text/plain": [
       "   RowNumber  CustomerId   Surname  CreditScore Geography  Gender  Age  \\\n",
       "0          1    15634602  Hargrave          619    France  Female   42   \n",
       "1          2    15647311      Hill          608     Spain  Female   41   \n",
       "2          3    15619304      Onio          502    France  Female   42   \n",
       "3          4    15701354      Boni          699    France  Female   39   \n",
       "4          5    15737888  Mitchell          850     Spain  Female   43   \n",
       "5          6    15574012       Chu          645     Spain    Male   44   \n",
       "6          7    15592531  Bartlett          822    France    Male   50   \n",
       "7          8    15656148    Obinna          376   Germany  Female   29   \n",
       "8          9    15792365        He          501    France    Male   44   \n",
       "9         10    15592389        H?          684    France    Male   27   \n",
       "\n",
       "   Tenure    Balance  NumOfProducts  HasCrCard  IsActiveMember  \\\n",
       "0     2.0       0.00              1          1               1   \n",
       "1     1.0   83807.86              1          0               1   \n",
       "2     8.0  159660.80              3          1               0   \n",
       "3     1.0       0.00              2          0               0   \n",
       "4     2.0  125510.82              1          1               1   \n",
       "5     8.0  113755.78              2          1               0   \n",
       "6     7.0       0.00              2          1               1   \n",
       "7     4.0  115046.74              4          1               0   \n",
       "8     4.0  142051.07              2          0               1   \n",
       "9     2.0  134603.88              1          1               1   \n",
       "\n",
       "   EstimatedSalary  Exited  \n",
       "0        101348.88       1  \n",
       "1        112542.58       0  \n",
       "2        113931.57       1  \n",
       "3         93826.63       0  \n",
       "4         79084.10       0  \n",
       "5        149756.71       1  \n",
       "6         10062.80       0  \n",
       "7        119346.88       1  \n",
       "8         74940.50       0  \n",
       "9         71725.73       0  "
      ]
     },
     "execution_count": 4,
     "metadata": {},
     "output_type": "execute_result"
    }
   ],
   "source": [
    "# выведем первые 10 объектов\n",
    "data.head(10)"
   ]
  },
  {
   "cell_type": "code",
   "execution_count": 5,
   "metadata": {},
   "outputs": [
    {
     "name": "stdout",
     "output_type": "stream",
     "text": [
      "<class 'pandas.core.frame.DataFrame'>\n",
      "RangeIndex: 10000 entries, 0 to 9999\n",
      "Data columns (total 14 columns):\n",
      " #   Column           Non-Null Count  Dtype  \n",
      "---  ------           --------------  -----  \n",
      " 0   RowNumber        10000 non-null  int64  \n",
      " 1   CustomerId       10000 non-null  int64  \n",
      " 2   Surname          10000 non-null  object \n",
      " 3   CreditScore      10000 non-null  int64  \n",
      " 4   Geography        10000 non-null  object \n",
      " 5   Gender           10000 non-null  object \n",
      " 6   Age              10000 non-null  int64  \n",
      " 7   Tenure           9091 non-null   float64\n",
      " 8   Balance          10000 non-null  float64\n",
      " 9   NumOfProducts    10000 non-null  int64  \n",
      " 10  HasCrCard        10000 non-null  int64  \n",
      " 11  IsActiveMember   10000 non-null  int64  \n",
      " 12  EstimatedSalary  10000 non-null  float64\n",
      " 13  Exited           10000 non-null  int64  \n",
      "dtypes: float64(3), int64(8), object(3)\n",
      "memory usage: 1.1+ MB\n"
     ]
    }
   ],
   "source": [
    "# выведем информацию о признаках объектов из датафрейма\n",
    "data.info()"
   ]
  },
  {
   "cell_type": "markdown",
   "metadata": {},
   "source": [
    "Признаки `RowNumber`, `CustomerId` и `Surname` являются избыточными - первый не несет никакой дополнительной информации, он просто дублирует индексы датафрейма; второй и третий - странно будет, если уход клиента из банка будет зависеть от таких признаков, как его уникальный идентификатор или фамилия. Удалим эти признаки из датасета, чтобы в дальнейшем они не мешали обучению модели."
   ]
  },
  {
   "cell_type": "code",
   "execution_count": 6,
   "metadata": {},
   "outputs": [],
   "source": [
    "# удалим лишние столбцы (признаки) из датасета\n",
    "data.drop(labels=['RowNumber', 'CustomerId', 'Surname'], axis=1, inplace=True)"
   ]
  },
  {
   "cell_type": "markdown",
   "metadata": {},
   "source": [
    "Поскольку пропущенных значений признака `Tenure` ок. 10 %, мы не можем просто удалить строки с данными объектами из датафрейма. Заполним эти пропуски и проверим результат."
   ]
  },
  {
   "cell_type": "code",
   "execution_count": 7,
   "metadata": {},
   "outputs": [
    {
     "name": "stdout",
     "output_type": "stream",
     "text": [
      "Медиана Tenure: 5.0\n",
      "Ср. арифм. Tenure: 4.997690023099769\n"
     ]
    }
   ],
   "source": [
    "# посчитаем медианное и ср. арифм. значения признака Tenure\n",
    "print('Медиана Tenure:', data['Tenure'].median())\n",
    "print('Ср. арифм. Tenure:', data['Tenure'].mean())"
   ]
  },
  {
   "cell_type": "code",
   "execution_count": 8,
   "metadata": {},
   "outputs": [],
   "source": [
    "# заполним пропуски столбца Tenure медианным значением\n",
    "data['Tenure'].fillna(data['Tenure'].median(), inplace=True)"
   ]
  },
  {
   "cell_type": "code",
   "execution_count": 9,
   "metadata": {},
   "outputs": [
    {
     "name": "stdout",
     "output_type": "stream",
     "text": [
      "<class 'pandas.core.frame.DataFrame'>\n",
      "RangeIndex: 10000 entries, 0 to 9999\n",
      "Data columns (total 11 columns):\n",
      " #   Column           Non-Null Count  Dtype  \n",
      "---  ------           --------------  -----  \n",
      " 0   CreditScore      10000 non-null  int64  \n",
      " 1   Geography        10000 non-null  object \n",
      " 2   Gender           10000 non-null  object \n",
      " 3   Age              10000 non-null  int64  \n",
      " 4   Tenure           10000 non-null  float64\n",
      " 5   Balance          10000 non-null  float64\n",
      " 6   NumOfProducts    10000 non-null  int64  \n",
      " 7   HasCrCard        10000 non-null  int64  \n",
      " 8   IsActiveMember   10000 non-null  int64  \n",
      " 9   EstimatedSalary  10000 non-null  float64\n",
      " 10  Exited           10000 non-null  int64  \n",
      "dtypes: float64(3), int64(6), object(2)\n",
      "memory usage: 859.5+ KB\n"
     ]
    }
   ],
   "source": [
    "# проверим результат удаления признаков и устранения пропусков\n",
    "data.info()"
   ]
  },
  {
   "cell_type": "markdown",
   "metadata": {},
   "source": [
    "По результатам дополнительного беглого предварительного анализа (визуального, построением графиков и определением уникальных значений признаков, здесь не приводится для упрощения представляемой работы) было определено, что в данных отсутствуют аномальные значения (выбросы и т.п.). Можно переходить к разделению выборок на обучающую, валидационную и тестовую."
   ]
  },
  {
   "cell_type": "markdown",
   "metadata": {},
   "source": [
    "### Разделение выборок"
   ]
  },
  {
   "cell_type": "markdown",
   "metadata": {},
   "source": [
    "Перед преобразованием категориальных и масштабированием численных признаков разделим датасет на две части: `features` - датафрейм, содержащий объекты с признаками, кроме целевого, и `target` - датафрейм со значениями целевого признака по всем объектам."
   ]
  },
  {
   "cell_type": "code",
   "execution_count": 12,
   "metadata": {},
   "outputs": [],
   "source": [
    "# разделим датафрейм на две части\n",
    "features = data.drop(labels='Exited', axis=1)\n",
    "target = data['Exited']"
   ]
  },
  {
   "cell_type": "markdown",
   "metadata": {},
   "source": [
    "Разобъем датафреймы на три выборки: обучающую, валидационную и тестовую, в соотношении 60:20:20.<br>\n",
    "Предварительно разделим данные датафрейма на промежуточную обучающую и тестовую выборки в соотношении 80:20 - так сформируем тестовую выборку на будущее.<br>\n",
    "Затем получившуюся промежуточную обучающую выборку еще раз разделим на (вновь) обучающую и валидационную выборки в соотношении 75:25 - так получим обучающую и валидационную выборки, равные 60 % и 20 % от исходных датафреймов `features` и `target`."
   ]
  },
  {
   "cell_type": "code",
   "execution_count": 13,
   "metadata": {},
   "outputs": [],
   "source": [
    "# разделим датафреймы на промежуточную обучающую и тестовую выборки\n",
    "features_train_interm, features_test, target_train_interm, target_test = train_test_split(\n",
    "    features, target, test_size=0.2, stratify=target, random_state=RANDOM_STATE_CONST)"
   ]
  },
  {
   "cell_type": "code",
   "execution_count": 14,
   "metadata": {},
   "outputs": [],
   "source": [
    "# разделим получившуюся промежуточную обучающую выборку на обучающую и валидационную выборки\n",
    "features_train, features_valid, target_train, target_valid = train_test_split(\n",
    "    features_train_interm, target_train_interm, test_size=0.25, stratify=target_train_interm,\n",
    "    random_state=RANDOM_STATE_CONST)"
   ]
  },
  {
   "cell_type": "markdown",
   "metadata": {},
   "source": [
    "Проверим, что валидационная и тестовая выборки равны по размеру."
   ]
  },
  {
   "cell_type": "code",
   "execution_count": 15,
   "metadata": {},
   "outputs": [
    {
     "name": "stdout",
     "output_type": "stream",
     "text": [
      "Размер валидационной выборки: (2000, 10)\n",
      "Размер тестовой выборки: (2000, 10)\n"
     ]
    }
   ],
   "source": [
    "print('Размер валидационной выборки:', features_valid.shape)\n",
    "print('Размер тестовой выборки:', features_test.shape)"
   ]
  },
  {
   "cell_type": "markdown",
   "metadata": {},
   "source": [
    "Дополнительно определим столбцы датафрейма с категориальными и численными признаками - понядобятся нам далее для отдельной обработки тех и других."
   ]
  },
  {
   "cell_type": "code",
   "execution_count": 16,
   "metadata": {},
   "outputs": [],
   "source": [
    "cat_cols = ['Geography', 'Gender'] # категориальные столбцы (признаки)\n",
    "num_cols = list(features_train.columns.drop(cat_cols)) # численные столбцы (признаки)"
   ]
  },
  {
   "cell_type": "markdown",
   "metadata": {},
   "source": [
    "### Обработка категориальных признаков"
   ]
  },
  {
   "cell_type": "markdown",
   "metadata": {},
   "source": [
    "Для обучения модели классификации необходимо предварительно категориальные признаки преобразовать в числовые. Рассмотрим подробнее категориальные признаки из исходного датафрейма."
   ]
  },
  {
   "cell_type": "code",
   "execution_count": 17,
   "metadata": {
    "scrolled": true
   },
   "outputs": [
    {
     "name": "stdout",
     "output_type": "stream",
     "text": [
      "['France' 'Spain' 'Germany']\n",
      "['Female' 'Male']\n"
     ]
    }
   ],
   "source": [
    "# подсчитаем количество уникальных значений категориальных признаков\n",
    "print(data['Geography'].unique())\n",
    "print(data['Gender'].unique())"
   ]
  },
  {
   "cell_type": "markdown",
   "metadata": {},
   "source": [
    "Категорий немного, можно применить технику OHE (one-hot encoding) для преобразования категориальных признаков."
   ]
  },
  {
   "cell_type": "code",
   "execution_count": 18,
   "metadata": {},
   "outputs": [],
   "source": [
    "# определим объект - энкодер\n",
    "# ohe = OneHotEncoder(sparse=False, handle_unknown='ignore', drop='first')\n",
    "ohe = OneHotEncoder(sparse=False, drop='first')\n",
    "\n",
    "# получим датафреймы с преобразованными категориальными признаками\n",
    "features_train_cat = pd.DataFrame(ohe.fit_transform(features_train[cat_cols]),\n",
    "                                  columns=ohe.get_feature_names_out(cat_cols),\n",
    "                                  index=features_train.index)\n",
    "features_valid_cat = pd.DataFrame(ohe.transform(features_valid[cat_cols]),\n",
    "                                  columns=ohe.get_feature_names_out(cat_cols),\n",
    "                                  index=features_valid.index)\n",
    "features_test_cat = pd.DataFrame(ohe.transform(features_test[cat_cols]),\n",
    "                                  columns=ohe.get_feature_names_out(cat_cols),\n",
    "                                  index=features_test.index)"
   ]
  },
  {
   "cell_type": "markdown",
   "metadata": {},
   "source": [
    "Объединим датафреймы с преобразованными категориальными признаками и немасштабированными числовыми признаками."
   ]
  },
  {
   "cell_type": "code",
   "execution_count": 19,
   "metadata": {},
   "outputs": [],
   "source": [
    "features_train_ohe = pd.concat([features_train_cat, features_train[num_cols]], axis=1)\n",
    "features_valid_ohe = pd.concat([features_valid_cat, features_valid[num_cols]], axis=1)\n",
    "features_test_ohe = pd.concat([features_test_cat, features_test[num_cols]], axis=1)"
   ]
  },
  {
   "cell_type": "markdown",
   "metadata": {},
   "source": [
    "### Нормализация (масштабирование) численных признаков"
   ]
  },
  {
   "cell_type": "markdown",
   "metadata": {},
   "source": [
    "Выполним масштабирование численных признаков в полученных датафреймах признаков (не целевых) с помощью инструмента `StandardScaler`. Масштабирование выполним следующим образом: обучим скэйлер на обучающей выборке, а потом примением его для преобразования признаков из валидационной и тестовой выборок."
   ]
  },
  {
   "cell_type": "code",
   "execution_count": 20,
   "metadata": {},
   "outputs": [],
   "source": [
    "# создадим объект - скэйлер\n",
    "scaler = StandardScaler()\n",
    "\n",
    "# получим выборки с отмасштабированными численными признаками\n",
    "features_train_ohe[num_cols] = scaler.fit_transform(features_train_ohe[num_cols])\n",
    "features_valid_ohe[num_cols] = scaler.transform(features_valid_ohe[num_cols])\n",
    "features_test_ohe[num_cols] = scaler.transform(features_test_ohe[num_cols])"
   ]
  },
  {
   "cell_type": "markdown",
   "metadata": {},
   "source": [
    "Выполними переприсвоение переменных для удобства дальнейшей работы с ними."
   ]
  },
  {
   "cell_type": "code",
   "execution_count": 21,
   "metadata": {},
   "outputs": [],
   "source": [
    "features_train = features_train_ohe\n",
    "features_valid = features_valid_ohe\n",
    "features_test = features_test_ohe"
   ]
  },
  {
   "cell_type": "markdown",
   "metadata": {},
   "source": [
    "### Выводы по разделу"
   ]
  },
  {
   "cell_type": "markdown",
   "metadata": {},
   "source": [
    "По результатам проведенной работы было выполнено следующее:\n",
    "- кратко проанилизированы данные объектов из исходного датасета;\n",
    "- исходный датафрейм разбит на обучающую, валидационную и тестовую выборки (отдельно - для признаков и отдельно - для целевого признака);\n",
    "- преобразованы категориальные и нормализованы численные признаки объектов датасета.<br>\n",
    "Можно переходить к обучению модели, предварительно проверив баланс классов для определения дисбаланса (если он имеется)."
   ]
  },
  {
   "cell_type": "markdown",
   "metadata": {},
   "source": [
    "## Исследование задачи"
   ]
  },
  {
   "cell_type": "markdown",
   "metadata": {},
   "source": [
    "### Исследование баланса классов"
   ]
  },
  {
   "cell_type": "markdown",
   "metadata": {},
   "source": [
    "Перед обучением ML-модели определим, имеется ли дисбаланс в классах (построим диаграмму, показывающую распределение целевого признака `Exited` в выборках, приведенное к диапазону [0, 1])."
   ]
  },
  {
   "cell_type": "code",
   "execution_count": 22,
   "metadata": {},
   "outputs": [
    {
     "name": "stdout",
     "output_type": "stream",
     "text": [
      "target:\n",
      " 0    0.7963\n",
      "1    0.2037\n",
      "Name: Exited, dtype: float64\n",
      "target_train:\n",
      " 0    0.796167\n",
      "1    0.203833\n",
      "Name: Exited, dtype: float64\n",
      "target_valid:\n",
      " 0    0.7965\n",
      "1    0.2035\n",
      "Name: Exited, dtype: float64\n",
      "target_test:\n",
      " 0    0.7965\n",
      "1    0.2035\n",
      "Name: Exited, dtype: float64\n"
     ]
    }
   ],
   "source": [
    "# оценим распределение меток классов\n",
    "print('target:\\n', target.value_counts(normalize=True))\n",
    "print('target_train:\\n', target_train.value_counts(normalize=True))\n",
    "print('target_valid:\\n', target_valid.value_counts(normalize=True))\n",
    "print('target_test:\\n', target_test.value_counts(normalize=True))"
   ]
  },
  {
   "cell_type": "code",
   "execution_count": 23,
   "metadata": {},
   "outputs": [
    {
     "data": {
      "image/png": "[encoded data removed]",
      "text/plain": [
       "<Figure size 288x216 with 1 Axes>"
      ]
     },
     "metadata": {
      "needs_background": "light"
     },
     "output_type": "display_data"
    }
   ],
   "source": [
    "# визуализируем распределение меток классов для большей наглядности\n",
    "# только для исходной выборки (поскольку доли классов в других выборках примерно аналогичны,\n",
    "# а при разбиении исходных выборок мы сделали выборки стратифицированными)\n",
    "target.value_counts(normalize=True).plot(kind='bar', figsize=(4,3), grid=True);\n",
    "plt.xlabel('Класс'), plt.ylabel('Доля класса')\n",
    "plt.title('Распределение меток классов');"
   ]
  },
  {
   "cell_type": "markdown",
   "metadata": {},
   "source": [
    "Наблюдается сильный дисбаланс классов: меток со значением \"0\" больше, чем меток \"1\" приблизительно в 4 раза. Тем не менее, попробуем обучить модель, не учитывая обнаруженный дисбаланс."
   ]
  },
  {
   "cell_type": "markdown",
   "metadata": {},
   "source": [
    "### Обучение модели без учета дисбаланса классов"
   ]
  },
  {
   "cell_type": "markdown",
   "metadata": {},
   "source": [
    "#### Модель логистической регрессии"
   ]
  },
  {
   "cell_type": "markdown",
   "metadata": {},
   "source": [
    "Обучим модель логистической регрессии на несбалансированных данных, посчитаем F1-меру, построим ROC-кривую и вычислим AUC-ROC (на \"отложенной\", валидационной выборке)."
   ]
  },
  {
   "cell_type": "code",
   "execution_count": 24,
   "metadata": {},
   "outputs": [
    {
     "name": "stdout",
     "output_type": "stream",
     "text": [
      "F1-мера: 0.31541218637992835\n",
      "Значение AUC-ROC: 0.7560164170333662\n"
     ]
    },
    {
     "data": {
      "image/png": "[encoded data removed]",
      "text/plain": [
       "<Figure size 288x216 with 1 Axes>"
      ]
     },
     "metadata": {
      "needs_background": "light"
     },
     "output_type": "display_data"
    }
   ],
   "source": [
    "# обучим модель лог. регрессии на несбалансированных данных\n",
    "model = LogisticRegression(solver='liblinear', random_state=RANDOM_STATE_CONST)\n",
    "model.fit(features_train, target_train)\n",
    "\n",
    "predicted_valid = model.predict(features_valid) # прогнозные значения на валидационной выборке\n",
    "\n",
    "# построим ROC-кривую и вычислим AUC-ROC\n",
    "probabilities_one_valid = model.predict_proba(features_valid)[:, 1] # вероятности прогнозных значений класса \"1\"\n",
    "\n",
    "fpr, tpr, thresholds = roc_curve(target_valid, probabilities_one_valid) # данные для построения ROC-кривой\n",
    "\n",
    "plt.figure(figsize=(4, 3)) # подготовка к визуализации\n",
    "plt.step(fpr, tpr, where='post'), plt.grid() # визуализация ROC-кривой\n",
    "plt.plot([0, 1], [0, 1], linestyle='--'); # ROC-кривая случайной модели (выглядит как прямая)\n",
    "plt.xlim([0, 1]), plt.ylim([0, 1])\n",
    "plt.xlabel('False Positive Rate'), plt.ylabel('True Positive Rate')\n",
    "plt.title('ROC-кривая');\n",
    "\n",
    "auc_roc = roc_auc_score(target_valid, probabilities_one_valid) # вычисление AUC-ROC\n",
    "print('F1-мера:', f1_score(target_valid, predicted_valid)) # F1-мера\n",
    "print('Значение AUC-ROC:', auc_roc)"
   ]
  },
  {
   "cell_type": "markdown",
   "metadata": {},
   "source": [
    "Попробуем выполнить взвешивание классов, чтобы таким образом сбалансировать веса классов."
   ]
  },
  {
   "cell_type": "code",
   "execution_count": 25,
   "metadata": {},
   "outputs": [
    {
     "name": "stdout",
     "output_type": "stream",
     "text": [
      "F1-мера: 0.4804270462633452\n",
      "Значение AUC-ROC: 0.7606589640487946\n"
     ]
    },
    {
     "data": {
      "image/png": "[encoded data removed]",
      "text/plain": [
       "<Figure size 288x216 with 1 Axes>"
      ]
     },
     "metadata": {
      "needs_background": "light"
     },
     "output_type": "display_data"
    }
   ],
   "source": [
    "# обучим модель лог. регрессии на несбалансированных данных\n",
    "model = LogisticRegression(solver='liblinear', class_weight='balanced', random_state=RANDOM_STATE_CONST)\n",
    "model.fit(features_train, target_train)\n",
    "\n",
    "predicted_valid = model.predict(features_valid) # прогнозные значения на валидационной выборке\n",
    "\n",
    "# построим ROC-кривую и вычислим AUC-ROC\n",
    "probabilities_one_valid = model.predict_proba(features_valid)[:, 1] # вероятности прогнозных значений класса \"1\"\n",
    "\n",
    "fpr, tpr, thresholds = roc_curve(target_valid, probabilities_one_valid) # данные для построения ROC-кривой\n",
    "\n",
    "plt.figure(figsize=(4, 3)) # подготовка к визуализации\n",
    "plt.step(fpr, tpr, where='post'), plt.grid() # визуализация ROC-кривой\n",
    "plt.plot([0, 1], [0, 1], linestyle='--'); # ROC-кривая случайной модели (выглядит как прямая)\n",
    "plt.xlim([0, 1]), plt.ylim([0, 1])\n",
    "plt.xlabel('False Positive Rate'), plt.ylabel('True Positive Rate')\n",
    "plt.title('ROC-кривая');\n",
    "\n",
    "auc_roc = roc_auc_score(target_valid, probabilities_one_valid) # вычисление AUC-ROC\n",
    "print('F1-мера:', f1_score(target_valid, predicted_valid)) # F1-мера\n",
    "print('Значение AUC-ROC:', auc_roc)"
   ]
  },
  {
   "cell_type": "markdown",
   "metadata": {},
   "source": [
    "#### Модель случайного леса"
   ]
  },
  {
   "cell_type": "markdown",
   "metadata": {},
   "source": [
    "Попробуем вместо логистической регрессии обучить модель случайного леса. Вначале найдем наиболее подходящие значения гиперпараметров `max_depth` и `n_estimators`.<br>\n",
    "Здесь и далее - поиск параметров будет сперва выполняться с бОльшим шагом итерации и в более широком диапазоне, затем - с меньшим шагом в более узком диапазоне (по результатам первого поиска в каждом случае). Скорее всего, гиперповерхность настраиваемых значений гиперпараметров не унимодальна, а значит, могут быть варианты, не попавшие в диапазон. Но, в конце концов, у нас не ставится задачи найти оптимальные значения гиперпараметров, поэтому позволим себе допущение, что мы ищем в нужных диапазонах."
   ]
  },
  {
   "cell_type": "code",
   "execution_count": 26,
   "metadata": {},
   "outputs": [
    {
     "name": "stdout",
     "output_type": "stream",
     "text": [
      "best_depth: 19,        best_n_estimators: 45,        Лучшая F1-мера: 0.5949,        Лучшее значение AUC-ROC: 0.8485\n",
      "CPU times: total: 15min 19s\n",
      "Wall time: 15min 27s\n"
     ]
    }
   ],
   "source": [
    "%%time\n",
    "# большой шаг, широкий диапазон\n",
    "best_depth = 0\n",
    "best_est = 0\n",
    "best_f1_score = 0\n",
    "cur_auc_roc = 0\n",
    "\n",
    "# подбор гиперпараметров max_depth и n_estimators\n",
    "for depth in range(5, 50, 2):\n",
    "    for est in range(10, 200, 5):\n",
    "        model = RandomForestClassifier(n_estimators=est, max_depth=depth,\n",
    "                                       random_state=RANDOM_STATE_CONST)\n",
    "        model.fit(features_train, target_train)\n",
    "        predicted_valid = model.predict(features_valid) # прогнозные значения на валидационной выборке\n",
    "        cur_f1_score = f1_score(target_valid, predicted_valid) # вычисление F1-меры\n",
    "        probabilities_one_valid = model.predict_proba(features_valid)[:, 1] # вероятности прогнозных \n",
    "                                                                            # значений класса \"1\"\n",
    "        auc_roc = roc_auc_score(target_valid, probabilities_one_valid) # вычисление AUC-ROC\n",
    "        #print('F1-мера:', f1_score(target_valid, predicted_valid), '    Значение AUC-ROC:', auc_roc)\n",
    "        #print(f'max_depth: {depth},\\\n",
    "                #F1-мера: {cur_f1_score:.4f},\\\n",
    "                #Значение AUC-ROC: {auc_roc:.4f}')\n",
    "        if cur_f1_score > best_f1_score:\n",
    "            best_f1_score = cur_f1_score\n",
    "            cur_auc_roc = auc_roc\n",
    "            best_depth = depth\n",
    "            best_est = est\n",
    "        \n",
    "print(f'best_depth: {best_depth},\\\n",
    "        best_n_estimators: {best_est},\\\n",
    "        Лучшая F1-мера: {best_f1_score:.4f},\\\n",
    "        Лучшее значение AUC-ROC: {cur_auc_roc:.4f}')"
   ]
  },
  {
   "cell_type": "code",
   "execution_count": 27,
   "metadata": {},
   "outputs": [
    {
     "name": "stdout",
     "output_type": "stream",
     "text": [
      "best_depth: 20,        best_n_estimators: 47,        Лучшая F1-мера: 0.5951,        Лучшее значение AUC-ROC: 0.8458\n",
      "CPU times: total: 1min 33s\n",
      "Wall time: 1min 35s\n"
     ]
    }
   ],
   "source": [
    "%%time\n",
    "# маленький шаг, узкий диапазон\n",
    "best_depth = 0\n",
    "best_est = 0\n",
    "best_f1_score = 0\n",
    "cur_auc_roc = 0\n",
    "\n",
    "# подбор гиперпараметров max_depth и n_estimators\n",
    "for depth in range(15, 25, 1):\n",
    "    for est in range(40, 55, 1):\n",
    "        model = RandomForestClassifier(n_estimators=est, max_depth=depth,\n",
    "                                       random_state=RANDOM_STATE_CONST)\n",
    "        model.fit(features_train, target_train)\n",
    "        predicted_valid = model.predict(features_valid) # прогнозные значения на валидационной выборке\n",
    "        cur_f1_score = f1_score(target_valid, predicted_valid) # вычисление F1-меры\n",
    "        probabilities_one_valid = model.predict_proba(features_valid)[:, 1] # вероятности прогнозных \n",
    "                                                                            # значений класса \"1\"\n",
    "        auc_roc = roc_auc_score(target_valid, probabilities_one_valid) # вычисление AUC-ROC\n",
    "\n",
    "        if cur_f1_score > best_f1_score:\n",
    "            best_f1_score = cur_f1_score\n",
    "            cur_auc_roc = auc_roc\n",
    "            best_depth = depth\n",
    "            best_est = est\n",
    "        \n",
    "print(f'best_depth: {best_depth},\\\n",
    "        best_n_estimators: {best_est},\\\n",
    "        Лучшая F1-мера: {best_f1_score:.4f},\\\n",
    "        Лучшее значение AUC-ROC: {cur_auc_roc:.4f}')"
   ]
  },
  {
   "cell_type": "markdown",
   "metadata": {},
   "source": [
    "Обучим модель случайного леса на несбалансированных данных, посчитаем F1-меру, построим ROC-кривую и вычислим AUC-ROC (на \"отложенной\", валидационной выборке) - с учетом найденных выше наилучших значений гиперпараметров."
   ]
  },
  {
   "cell_type": "code",
   "execution_count": 28,
   "metadata": {},
   "outputs": [
    {
     "name": "stdout",
     "output_type": "stream",
     "text": [
      "F1-мера: 0.5950920245398773\n",
      "Значение AUC-ROC: 0.8458003458003457\n"
     ]
    },
    {
     "data": {
      "image/png": "[encoded data removed]",
      "text/plain": [
       "<Figure size 288x216 with 1 Axes>"
      ]
     },
     "metadata": {
      "needs_background": "light"
     },
     "output_type": "display_data"
    }
   ],
   "source": [
    "# обучим модель случайного леса на несбалансированных данных\n",
    "model = RandomForestClassifier(n_estimators=best_est, max_depth=best_depth,\n",
    "                               random_state=RANDOM_STATE_CONST)\n",
    "model.fit(features_train, target_train)\n",
    "\n",
    "predicted_valid = model.predict(features_valid) # прогнозные значения на валидационной выборке\n",
    "\n",
    "# построим ROC-кривую и вычислим AUC-ROC\n",
    "probabilities_one_valid = model.predict_proba(features_valid)[:, 1] # вероятности прогнозных значений класса \"1\"\n",
    "\n",
    "fpr, tpr, thresholds = roc_curve(target_valid, probabilities_one_valid) # данные для построения ROC-кривой\n",
    "\n",
    "plt.figure(figsize=(4, 3)) # подготовка к визуализации\n",
    "plt.step(fpr, tpr, where='post'), plt.grid() # визуализация ROC-кривой\n",
    "plt.plot([0, 1], [0, 1], linestyle='--'); # ROC-кривая случайной модели (выглядит как прямая)\n",
    "plt.xlim([0, 1]), plt.ylim([0, 1])\n",
    "plt.xlabel('False Positive Rate'), plt.ylabel('True Positive Rate')\n",
    "plt.title('ROC-кривая');\n",
    "\n",
    "auc_roc = roc_auc_score(target_valid, probabilities_one_valid) # вычисление AUC-ROC\n",
    "print('F1-мера:', f1_score(target_valid, predicted_valid)) # F1-мера\n",
    "print('Значение AUC-ROC:', auc_roc)"
   ]
  },
  {
   "cell_type": "markdown",
   "metadata": {},
   "source": [
    "### Выводы по разделу"
   ]
  },
  {
   "cell_type": "markdown",
   "metadata": {},
   "source": [
    "По результатам проведенной работы можно сделать следующие предварительные краткие выводы:\n",
    "- в исходном датасете (и полученных из него выборках) присутствует очевидный и значительный дисбаланс классов (отношение меток классов целевого признака \"0\" к \"1\" приблизительно равно 4:1);\n",
    "- из двух обученных моделей (логит и случайный лес) наилучшие результаты показывает модель случайного леса (F1-мера равна 0.5951, AUC-ROC - приблизительно 0.8458);\n",
    "- ROC-кривая для лучшей модели показывает, что полученный классификатор работает точно лучше случайного классификатора и приближается к некоему идеальному классификатору (по внешнему виду)."
   ]
  },
  {
   "cell_type": "markdown",
   "metadata": {},
   "source": [
    "Формально результат задачи достигнут даже без устранения дисбаланса классов - полученная на модели случайного леса F1-мера превышает заданное значение 0,59. Однако продолжим дальнейшее улучшение модели, перейдя к устранению дисбаланса классов."
   ]
  },
  {
   "cell_type": "markdown",
   "metadata": {},
   "source": [
    "## Борьба с дисбалансом"
   ]
  },
  {
   "cell_type": "markdown",
   "metadata": {},
   "source": [
    "### Увеличение выборок (upsampling)"
   ]
  },
  {
   "cell_type": "markdown",
   "metadata": {},
   "source": [
    "Попробуем решить проблему дисбаланса классов целевого признака путем увеличения обучающих выборок для класса, меток которого меньше в датасете.<br>\n",
    "Создадим функцию, входными аргументами которой будут являться выборки признаков и целевого признака, а также кратность увеличения выборок, а выходными аргументами - увеличенные выборки признаков и целевого признака. Затем обработаем обучающие выборки и проверим результат upsampling-а."
   ]
  },
  {
   "cell_type": "code",
   "execution_count": 29,
   "metadata": {},
   "outputs": [],
   "source": [
    "# функция увеличения выборок\n",
    "def upsample(features, target, repeat):\n",
    "    features_zeros = features[target == 0] # признаки с целевым \"0\"\n",
    "    features_ones = features[target == 1] # признаки с целевым \"1\"\n",
    "    target_zeros = target[target == 0] # целевой признак \"0\"\n",
    "    target_ones = target[target == 1] # целевой признак \"1\"\n",
    "\n",
    "    features_upsampled = pd.concat([features_zeros] + [features_ones] * repeat) # увеличенная выборка признаков\n",
    "    target_upsampled = pd.concat([target_zeros] + [target_ones] * repeat) # увеличенная выборка целевого признака\n",
    "    \n",
    "    features_upsampled, target_upsampled = shuffle(\n",
    "        features_upsampled, target_upsampled, random_state=42) # добавим перемешивание объектов\n",
    "    \n",
    "    return features_upsampled, target_upsampled"
   ]
  },
  {
   "cell_type": "code",
   "execution_count": 30,
   "metadata": {},
   "outputs": [
    {
     "name": "stdout",
     "output_type": "stream",
     "text": [
      "(9669, 11)\n",
      "(9669,)\n"
     ]
    }
   ],
   "source": [
    "# увеличенные выборки признаков и целевого признака\n",
    "features_upsampled, target_upsampled = upsample(features_train, target_train, 4)\n",
    "print(features_upsampled.shape) # проверка размерностей получившихся выборок\n",
    "print(target_upsampled.shape)"
   ]
  },
  {
   "cell_type": "code",
   "execution_count": 31,
   "metadata": {},
   "outputs": [
    {
     "data": {
      "image/png": "[encoded data removed]",
      "text/plain": [
       "<Figure size 288x216 with 1 Axes>"
      ]
     },
     "metadata": {
      "needs_background": "light"
     },
     "output_type": "display_data"
    }
   ],
   "source": [
    "# визуализируем распределение целевого признака в увеличенной выборке\n",
    "target_upsampled.value_counts(normalize=True).plot(kind='bar', figsize=(4,3), grid=True);\n",
    "plt.xlabel('Класс'), plt.ylabel('Доля класса')\n",
    "plt.title('Распределение меток классов');"
   ]
  },
  {
   "cell_type": "markdown",
   "metadata": {},
   "source": [
    "<div class=\"alert alert-success\">\n",
    "<font size=\"4\"><b>✔️ Комментарий ревьюера</b></font>\n",
    "    <br /> \n",
    "    <font size=\"3\", color = \"black\">\n",
    "<br />    \n",
    "Молодец, что проверяешь, что баланс достигнут"
   ]
  },
  {
   "cell_type": "markdown",
   "metadata": {},
   "source": [
    "### Уменьшение выборок (downsampling)"
   ]
  },
  {
   "cell_type": "markdown",
   "metadata": {},
   "source": [
    "Попробуем решить проблему дисбаланса классов целевого признака другим способом - посредством уменьшения обучающих выборок для класса, меток которого больше в исходном датасете.<br>\n",
    "Создадим функцию, входными аргументами которой будут являться выборки признаков и целевого признака, а также доля уменьшения выборок, а выходными аргументами - уменьшенные выборки признаков и целевого признака. Затем обработаем обучающие выборки и проверим результат downsampling-а."
   ]
  },
  {
   "cell_type": "code",
   "execution_count": 32,
   "metadata": {},
   "outputs": [],
   "source": [
    "# функция уменьшения выборок\n",
    "def downsample(features, target, fraction):\n",
    "    features_zeros = features[target == 0] # признаки с целевым \"0\"\n",
    "    features_ones = features[target == 1] # признаки с целевым \"1\"\n",
    "    target_zeros = target[target == 0] # целевой признак \"0\"\n",
    "    target_ones = target[target == 1] # целевой признак \"1\"\n",
    "\n",
    "    features_downsampled = pd.concat([features_zeros.sample(frac=fraction, random_state=42)]\n",
    "                                     + [features_ones]) # уменьшенная выборка признаков\n",
    "    target_downsampled = pd.concat([target_zeros.sample(frac=fraction, random_state=42)]\n",
    "                                   + [target_ones]) # уменьшенная выборка целевого признака\n",
    "\n",
    "    features_downsampled, target_downsampled = shuffle(features_downsampled,\n",
    "                                                       target_downsampled, random_state=42) # добавим перемешивание объектов\n",
    "    \n",
    "    return features_downsampled, target_downsampled"
   ]
  },
  {
   "cell_type": "code",
   "execution_count": 33,
   "metadata": {},
   "outputs": [
    {
     "name": "stdout",
     "output_type": "stream",
     "text": [
      "(2465, 11)\n",
      "(2465,)\n"
     ]
    }
   ],
   "source": [
    "# уменьшенные выборки признаков и целевого признака\n",
    "features_downsampled, target_downsampled = downsample(features_train, target_train, 0.26)\n",
    "print(features_downsampled.shape) # проверка размерностей получившихся выборок\n",
    "print(target_downsampled.shape)"
   ]
  },
  {
   "cell_type": "code",
   "execution_count": 34,
   "metadata": {},
   "outputs": [
    {
     "data": {
      "image/png": "[encoded data removed]",
      "text/plain": [
       "<Figure size 288x216 with 1 Axes>"
      ]
     },
     "metadata": {
      "needs_background": "light"
     },
     "output_type": "display_data"
    }
   ],
   "source": [
    "# визуализируем распределение целевого признака в уменьшенной выборке\n",
    "target_downsampled.value_counts(normalize=True).plot(kind='bar', figsize=(4,3), grid=True);\n",
    "plt.xlabel('Класс'), plt.ylabel('Доля класса')\n",
    "plt.title('Распределение меток классов');"
   ]
  },
  {
   "cell_type": "markdown",
   "metadata": {},
   "source": [
    "### Обучение моделей с увеличенными выборками"
   ]
  },
  {
   "cell_type": "markdown",
   "metadata": {},
   "source": [
    "#### Модель логистической регрессии"
   ]
  },
  {
   "cell_type": "markdown",
   "metadata": {},
   "source": [
    "Снова обучим модель логистической регрессии на сбалансированных данных (методом `upsampling`), посчитаем F1-меру, построим ROC-кривую и вычислим AUC-ROC (на \"отложенной\", валидационной выборке)."
   ]
  },
  {
   "cell_type": "code",
   "execution_count": 35,
   "metadata": {},
   "outputs": [
    {
     "name": "stdout",
     "output_type": "stream",
     "text": [
      "F1-мера: 0.47902097902097895\n",
      "Значение AUC-ROC: 0.7607684726328794\n"
     ]
    },
    {
     "data": {
      "image/png": "[encoded data removed]",
      "text/plain": [
       "<Figure size 288x216 with 1 Axes>"
      ]
     },
     "metadata": {
      "needs_background": "light"
     },
     "output_type": "display_data"
    }
   ],
   "source": [
    "# обучим модель лог. регрессии на сбалансированных данных (upsampling)\n",
    "model = LogisticRegression(solver='liblinear', random_state=RANDOM_STATE_CONST)\n",
    "model.fit(features_upsampled, target_upsampled)\n",
    "\n",
    "predicted_valid = model.predict(features_valid) # прогнозные значения на валидационной выборке\n",
    "\n",
    "# построим ROC-кривую и вычислим AUC-ROC\n",
    "probabilities_one_valid = model.predict_proba(features_valid)[:, 1] # вероятности прогнозных значений класса \"1\"\n",
    "\n",
    "fpr, tpr, thresholds = roc_curve(target_valid, probabilities_one_valid) # данные для построения ROC-кривой\n",
    "\n",
    "plt.figure(figsize=(4, 3)) # подготовка к визуализации\n",
    "plt.step(fpr, tpr, where='post'), plt.grid() # визуализация ROC-кривой\n",
    "plt.plot([0, 1], [0, 1], linestyle='--'); # ROC-кривая случайной модели (выглядит как прямая)\n",
    "plt.xlim([0, 1]), plt.ylim([0, 1])\n",
    "plt.xlabel('False Positive Rate'), plt.ylabel('True Positive Rate')\n",
    "plt.title('ROC-кривая');\n",
    "\n",
    "auc_roc = roc_auc_score(target_valid, probabilities_one_valid) # вычисление AUC-ROC\n",
    "print('F1-мера:', f1_score(target_valid, predicted_valid)) # F1-мера\n",
    "print('Значение AUC-ROC:', auc_roc)"
   ]
  },
  {
   "cell_type": "markdown",
   "metadata": {},
   "source": [
    "Опять попробуем выполнить взвешивание классов для сбалансированных выборок."
   ]
  },
  {
   "cell_type": "code",
   "execution_count": 36,
   "metadata": {},
   "outputs": [
    {
     "name": "stdout",
     "output_type": "stream",
     "text": [
      "F1-мера: 0.48\n",
      "Значение AUC-ROC: 0.7606759301674556\n"
     ]
    },
    {
     "data": {
      "image/png": "[encoded data removed]",
      "text/plain": [
       "<Figure size 288x216 with 1 Axes>"
      ]
     },
     "metadata": {
      "needs_background": "light"
     },
     "output_type": "display_data"
    }
   ],
   "source": [
    "# обучим модель лог. регрессии на сбалансированных данных (upsampling)\n",
    "model = LogisticRegression(solver='liblinear', class_weight='balanced', random_state=RANDOM_STATE_CONST)\n",
    "model.fit(features_upsampled, target_upsampled)\n",
    "\n",
    "predicted_valid = model.predict(features_valid) # прогнозные значения на валидационной выборке\n",
    "\n",
    "# построим ROC-кривую и вычислим AUC-ROC\n",
    "probabilities_one_valid = model.predict_proba(features_valid)[:, 1] # вероятности прогнозных значений класса \"1\"\n",
    "\n",
    "fpr, tpr, thresholds = roc_curve(target_valid, probabilities_one_valid) # данные для построения ROC-кривой\n",
    "\n",
    "plt.figure(figsize=(4, 3)) # подготовка к визуализации\n",
    "plt.step(fpr, tpr, where='post'), plt.grid() # визуализация ROC-кривой\n",
    "plt.plot([0, 1], [0, 1], linestyle='--'); # ROC-кривая случайной модели (выглядит как прямая)\n",
    "plt.xlim([0, 1]), plt.ylim([0, 1])\n",
    "plt.xlabel('False Positive Rate'), plt.ylabel('True Positive Rate')\n",
    "plt.title('ROC-кривая');\n",
    "\n",
    "auc_roc = roc_auc_score(target_valid, probabilities_one_valid) # вычисление AUC-ROC\n",
    "print('F1-мера:', f1_score(target_valid, predicted_valid)) # F1-мера\n",
    "print('Значение AUC-ROC:', auc_roc)"
   ]
  },
  {
   "cell_type": "markdown",
   "metadata": {},
   "source": [
    "Как видно из значений F1-меры и графиков ROC-кривой, взвешивание классов для модели логистической регрессии для сбалансированных выборок не приносит особого результата: значения метрик приблизительно равны. Т.е., в случае логита встроенное взвешивание классов работает аналогично устранению дисбаланса путем увеличения выборок (можно было не ресэмплировать выборки). Попробуем модель случайного леса. "
   ]
  },
  {
   "cell_type": "markdown",
   "metadata": {},
   "source": [
    "#### Модель случайного леса"
   ]
  },
  {
   "cell_type": "markdown",
   "metadata": {},
   "source": [
    "Теперь снова обучим модель случайного леса уже на сбалансированных выборках (увеличенных), предварительно найдя наиболее подходящие значения гиперпараметров `max_depth` и `n_estimators`."
   ]
  },
  {
   "cell_type": "code",
   "execution_count": 37,
   "metadata": {},
   "outputs": [
    {
     "name": "stdout",
     "output_type": "stream",
     "text": [
      "best_depth: 13,        best_n_estimators: 110,        Лучшая F1-мера: 0.6424,        Лучшее значение AUC-ROC: 0.8538\n",
      "CPU times: total: 23min 24s\n",
      "Wall time: 23min 31s\n"
     ]
    }
   ],
   "source": [
    "%%time\n",
    "# большой шаг, широкий диапазон\n",
    "best_depth = 0\n",
    "best_est = 0\n",
    "best_f1_score = 0\n",
    "cur_auc_roc = 0\n",
    "\n",
    "# подбор гиперпараметров max_depth и n_estimators\n",
    "for depth in range(5, 50, 2):\n",
    "    for est in range(10, 200, 5):\n",
    "        model = RandomForestClassifier(n_estimators=est, max_depth=depth,\n",
    "                                       random_state=RANDOM_STATE_CONST)\n",
    "        model.fit(features_upsampled, target_upsampled)\n",
    "        predicted_valid = model.predict(features_valid) # прогнозные значения на валидационной выборке\n",
    "        cur_f1_score = f1_score(target_valid, predicted_valid) # вычисление F1-меры\n",
    "        probabilities_one_valid = model.predict_proba(features_valid)[:, 1] # вероятности прогнозных \n",
    "                                                                            # значений класса \"1\"\n",
    "        auc_roc = roc_auc_score(target_valid, probabilities_one_valid) # вычисление AUC-ROC\n",
    "\n",
    "        if cur_f1_score > best_f1_score:\n",
    "            best_f1_score = cur_f1_score\n",
    "            cur_auc_roc = auc_roc\n",
    "            best_depth = depth\n",
    "            best_est = est\n",
    "        \n",
    "print(f'best_depth: {best_depth},\\\n",
    "        best_n_estimators: {best_est},\\\n",
    "        Лучшая F1-мера: {best_f1_score:.4f},\\\n",
    "        Лучшее значение AUC-ROC: {cur_auc_roc:.4f}')"
   ]
  },
  {
   "cell_type": "code",
   "execution_count": 38,
   "metadata": {},
   "outputs": [
    {
     "name": "stdout",
     "output_type": "stream",
     "text": [
      "best_depth: 14,        best_n_estimators: 104,        Лучшая F1-мера: 0.6474,        Лучшее значение AUC-ROC: 0.8587\n",
      "CPU times: total: 4min 11s\n",
      "Wall time: 4min 11s\n"
     ]
    }
   ],
   "source": [
    "%%time\n",
    "# маленький шаг, узкий диапазон\n",
    "best_depth = 0\n",
    "best_est = 0\n",
    "best_f1_score = 0\n",
    "cur_auc_roc = 0\n",
    "\n",
    "# подбор гиперпараметров max_depth и n_estimators\n",
    "for depth in range(8, 20, 1):\n",
    "    for est in range(104, 118, 1):\n",
    "        model = RandomForestClassifier(n_estimators=est, max_depth=depth,\n",
    "                                       random_state=RANDOM_STATE_CONST)\n",
    "        model.fit(features_upsampled, target_upsampled)\n",
    "        predicted_valid = model.predict(features_valid) # прогнозные значения на валидационной выборке\n",
    "        cur_f1_score = f1_score(target_valid, predicted_valid) # вычисление F1-меры\n",
    "        probabilities_one_valid = model.predict_proba(features_valid)[:, 1] # вероятности прогнозных \n",
    "                                                                            # значений класса \"1\"\n",
    "        auc_roc = roc_auc_score(target_valid, probabilities_one_valid) # вычисление AUC-ROC\n",
    "\n",
    "        if cur_f1_score > best_f1_score:\n",
    "            best_f1_score = cur_f1_score\n",
    "            cur_auc_roc = auc_roc\n",
    "            best_depth = depth\n",
    "            best_est = est\n",
    "        \n",
    "print(f'best_depth: {best_depth},\\\n",
    "        best_n_estimators: {best_est},\\\n",
    "        Лучшая F1-мера: {best_f1_score:.4f},\\\n",
    "        Лучшее значение AUC-ROC: {cur_auc_roc:.4f}')"
   ]
  },
  {
   "cell_type": "markdown",
   "metadata": {},
   "source": [
    "Снова обучим модель случайного леса, но уже на сбалансированных данных (увеличенных выборках методом upsampling), посчитаем F1-меру, построим ROC-кривую и вычислим AUC-ROC (на \"отложенной\", валидационной выборке) - с учетом найденных выше наилучших значений гиперпараметров."
   ]
  },
  {
   "cell_type": "code",
   "execution_count": 39,
   "metadata": {},
   "outputs": [
    {
     "name": "stdout",
     "output_type": "stream",
     "text": [
      "F1-мера: 0.6473551637279596\n",
      "Значение AUC-ROC: 0.8586560366221382\n"
     ]
    },
    {
     "data": {
      "image/png": "[encoded data removed]",
      "text/plain": [
       "<Figure size 288x216 with 1 Axes>"
      ]
     },
     "metadata": {
      "needs_background": "light"
     },
     "output_type": "display_data"
    }
   ],
   "source": [
    "# обучим модель случайного леса на сбалансированных данных\n",
    "model = RandomForestClassifier(n_estimators=best_est, max_depth=best_depth,\n",
    "                               random_state=RANDOM_STATE_CONST)\n",
    "model.fit(features_upsampled, target_upsampled)\n",
    "\n",
    "predicted_valid = model.predict(features_valid) # прогнозные значения на валидационной выборке\n",
    "\n",
    "# построим ROC-кривую и вычислим AUC-ROC\n",
    "probabilities_one_valid = model.predict_proba(features_valid)[:, 1] # вероятности прогнозных значений класса \"1\"\n",
    "\n",
    "fpr, tpr, thresholds = roc_curve(target_valid, probabilities_one_valid) # данные для построения ROC-кривой\n",
    "\n",
    "plt.figure(figsize=(4, 3)) # подготовка к визуализации\n",
    "plt.step(fpr, tpr, where='post'), plt.grid() # визуализация ROC-кривой\n",
    "plt.plot([0, 1], [0, 1], linestyle='--'); # ROC-кривая случайной модели (выглядит как прямая)\n",
    "plt.xlim([0, 1]), plt.ylim([0, 1])\n",
    "plt.xlabel('False Positive Rate'), plt.ylabel('True Positive Rate')\n",
    "plt.title('ROC-кривая');\n",
    "\n",
    "auc_roc = roc_auc_score(target_valid, probabilities_one_valid) # вычисление AUC-ROC\n",
    "print('F1-мера:', f1_score(target_valid, predicted_valid)) # F1-мера\n",
    "print('Значение AUC-ROC:', auc_roc)"
   ]
  },
  {
   "cell_type": "markdown",
   "metadata": {},
   "source": [
    "### Обучение моделей с уменьшенными выборками"
   ]
  },
  {
   "cell_type": "markdown",
   "metadata": {},
   "source": [
    "#### Модель логистической регрессии"
   ]
  },
  {
   "cell_type": "markdown",
   "metadata": {},
   "source": [
    "Теперь выполним обучение модели логистической регрессии на сбалансированных данных с уменьшенными обучающими выборками (методом `downsampling`), посчитаем F1-меру, построим ROC-кривую и вычислим AUC-ROC (на \"отложенной\", валидационной выборке)."
   ]
  },
  {
   "cell_type": "code",
   "execution_count": 40,
   "metadata": {},
   "outputs": [
    {
     "name": "stdout",
     "output_type": "stream",
     "text": [
      "F1-мера: 0.4819494584837545\n",
      "Значение AUC-ROC: 0.7593309796699628\n"
     ]
    },
    {
     "data": {
      "image/png": "[encoded data removed]",
      "text/plain": [
       "<Figure size 288x216 with 1 Axes>"
      ]
     },
     "metadata": {
      "needs_background": "light"
     },
     "output_type": "display_data"
    }
   ],
   "source": [
    "# обучим модель лог. регрессии на сбалансированных данных (downsampling)\n",
    "model = LogisticRegression(solver='liblinear', random_state=RANDOM_STATE_CONST)\n",
    "model.fit(features_downsampled, target_downsampled)\n",
    "\n",
    "predicted_valid = model.predict(features_valid) # прогнозные значения на валидационной выборке\n",
    "\n",
    "# построим ROC-кривую и вычислим AUC-ROC\n",
    "probabilities_one_valid = model.predict_proba(features_valid)[:, 1] # вероятности прогнозных значений класса \"1\"\n",
    "\n",
    "fpr, tpr, thresholds = roc_curve(target_valid, probabilities_one_valid) # данные для построения ROC-кривой\n",
    "\n",
    "plt.figure(figsize=(4, 3)) # подготовка к визуализации\n",
    "plt.step(fpr, tpr, where='post'), plt.grid() # визуализация ROC-кривой\n",
    "plt.plot([0, 1], [0, 1], linestyle='--'); # ROC-кривая случайной модели (выглядит как прямая)\n",
    "plt.xlim([0, 1]), plt.ylim([0, 1])\n",
    "plt.xlabel('False Positive Rate'), plt.ylabel('True Positive Rate')\n",
    "plt.title('ROC-кривая');\n",
    "\n",
    "auc_roc = roc_auc_score(target_valid, probabilities_one_valid) # вычисление AUC-ROC\n",
    "print('F1-мера:', f1_score(target_valid, predicted_valid)) # F1-мера\n",
    "print('Значение AUC-ROC:', auc_roc)"
   ]
  },
  {
   "cell_type": "markdown",
   "metadata": {},
   "source": [
    "#### Модель случайного леса"
   ]
  },
  {
   "cell_type": "markdown",
   "metadata": {},
   "source": [
    "Наконец, обучим модель случайного леса уже на сбалансированных уменьшенных выборках, предварительно найдя наиболее подходящие значения гиперпараметров `max_depth` и `n_estimators`."
   ]
  },
  {
   "cell_type": "code",
   "execution_count": 41,
   "metadata": {},
   "outputs": [
    {
     "name": "stdout",
     "output_type": "stream",
     "text": [
      "best_depth: 23,        best_n_estimators: 150,        Лучшая F1-мера: 0.6043,        Лучшее значение AUC-ROC: 0.8571\n",
      "CPU times: total: 8min 52s\n",
      "Wall time: 8min 53s\n"
     ]
    }
   ],
   "source": [
    "%%time\n",
    "# большой шаг, широкий диапазон\n",
    "best_depth = 0\n",
    "best_est = 0\n",
    "best_f1_score = 0\n",
    "cur_auc_roc = 0\n",
    "\n",
    "# подбор гиперпараметров max_depth и n_estimators\n",
    "for depth in range(5, 50, 2):\n",
    "    for est in range(10, 200, 5):\n",
    "        model = RandomForestClassifier(n_estimators=est, max_depth=depth,\n",
    "                                       random_state=RANDOM_STATE_CONST)\n",
    "        model.fit(features_downsampled, target_downsampled)\n",
    "        predicted_valid = model.predict(features_valid) # прогнозные значения на валидационной выборке\n",
    "        cur_f1_score = f1_score(target_valid, predicted_valid) # вычисление F1-меры\n",
    "        probabilities_one_valid = model.predict_proba(features_valid)[:, 1] # вероятности прогнозных \n",
    "                                                                            # значений класса \"1\"\n",
    "        auc_roc = roc_auc_score(target_valid, probabilities_one_valid) # вычисление AUC-ROC\n",
    "\n",
    "        if cur_f1_score > best_f1_score:\n",
    "            best_f1_score = cur_f1_score\n",
    "            cur_auc_roc = auc_roc\n",
    "            best_depth = depth\n",
    "            best_est = est\n",
    "        \n",
    "print(f'best_depth: {best_depth},\\\n",
    "        best_n_estimators: {best_est},\\\n",
    "        Лучшая F1-мера: {best_f1_score:.4f},\\\n",
    "        Лучшее значение AUC-ROC: {cur_auc_roc:.4f}')"
   ]
  },
  {
   "cell_type": "code",
   "execution_count": 43,
   "metadata": {},
   "outputs": [
    {
     "name": "stdout",
     "output_type": "stream",
     "text": [
      "best_depth: 23,        best_n_estimators: 146,        Лучшая F1-мера: 0.6074,        Лучшее значение AUC-ROC: 0.8572\n",
      "CPU times: total: 2min 59s\n",
      "Wall time: 3min 2s\n"
     ]
    }
   ],
   "source": [
    "%%time\n",
    "# маленький шаг, узкий диапазон\n",
    "best_depth = 0\n",
    "best_est = 0\n",
    "best_f1_score = 0\n",
    "cur_auc_roc = 0\n",
    "\n",
    "# подбор гиперпараметров max_depth и n_estimators\n",
    "for depth in range(17, 30, 1):\n",
    "    for est in range(143, 157, 1):\n",
    "        model = RandomForestClassifier(n_estimators=est, max_depth=depth,\n",
    "                                       random_state=RANDOM_STATE_CONST)\n",
    "        model.fit(features_downsampled, target_downsampled)\n",
    "        predicted_valid = model.predict(features_valid) # прогнозные значения на валидационной выборке\n",
    "        cur_f1_score = f1_score(target_valid, predicted_valid) # вычисление F1-меры\n",
    "        probabilities_one_valid = model.predict_proba(features_valid)[:, 1] # вероятности прогнозных \n",
    "                                                                            # значений класса \"1\"\n",
    "        auc_roc = roc_auc_score(target_valid, probabilities_one_valid) # вычисление AUC-ROC\n",
    "\n",
    "        if cur_f1_score > best_f1_score:\n",
    "            best_f1_score = cur_f1_score\n",
    "            cur_auc_roc = auc_roc\n",
    "            best_depth = depth\n",
    "            best_est = est\n",
    "        \n",
    "print(f'best_depth: {best_depth},\\\n",
    "        best_n_estimators: {best_est},\\\n",
    "        Лучшая F1-мера: {best_f1_score:.4f},\\\n",
    "        Лучшее значение AUC-ROC: {cur_auc_roc:.4f}')"
   ]
  },
  {
   "cell_type": "markdown",
   "metadata": {},
   "source": [
    "Снова обучим модель случайного леса, но уже на сбалансированных данных (уменьшенных выборках методом downsampling), посчитаем F1-меру, построим ROC-кривую и вычислим AUC-ROC (на \"отложенной\", валидационной выборке) - с учетом найденных выше наилучших значений гиперпараметров."
   ]
  },
  {
   "cell_type": "code",
   "execution_count": 45,
   "metadata": {},
   "outputs": [
    {
     "name": "stdout",
     "output_type": "stream",
     "text": [
      "F1-мера: 0.6073793755912962\n",
      "Значение AUC-ROC: 0.8572085182254675\n"
     ]
    },
    {
     "data": {
      "image/png": "[encoded data removed]",
      "text/plain": [
       "<Figure size 288x216 with 1 Axes>"
      ]
     },
     "metadata": {
      "needs_background": "light"
     },
     "output_type": "display_data"
    }
   ],
   "source": [
    "# обучим модель случайного леса на сбалансированных данных\n",
    "model = RandomForestClassifier(n_estimators=best_est, max_depth=best_depth,\n",
    "                               random_state=RANDOM_STATE_CONST)\n",
    "model.fit(features_downsampled, target_downsampled)\n",
    "\n",
    "predicted_valid = model.predict(features_valid) # прогнозные значения на валидационной выборке\n",
    "\n",
    "# построим ROC-кривую и вычислим AUC-ROC\n",
    "probabilities_one_valid = model.predict_proba(features_valid)[:, 1] # вероятности прогнозных значений класса \"1\"\n",
    "\n",
    "fpr, tpr, thresholds = roc_curve(target_valid, probabilities_one_valid) # данные для построения ROC-кривой\n",
    "\n",
    "plt.figure(figsize=(4, 3)) # подготовка к визуализации\n",
    "plt.step(fpr, tpr, where='post'), plt.grid() # визуализация ROC-кривой\n",
    "plt.plot([0, 1], [0, 1], linestyle='--'); # ROC-кривая случайной модели (выглядит как прямая)\n",
    "plt.xlim([0, 1]), plt.ylim([0, 1])\n",
    "plt.xlabel('False Positive Rate'), plt.ylabel('True Positive Rate')\n",
    "plt.title('ROC-кривая');\n",
    "\n",
    "auc_roc = roc_auc_score(target_valid, probabilities_one_valid) # вычисление AUC-ROC\n",
    "print('F1-мера:', f1_score(target_valid, predicted_valid)) # F1-мера\n",
    "print('Значение AUC-ROC:', auc_roc)"
   ]
  },
  {
   "cell_type": "markdown",
   "metadata": {},
   "source": [
    "### Выводы по разделу"
   ]
  },
  {
   "cell_type": "markdown",
   "metadata": {},
   "source": [
    "По результатам проведенной работы можно сделать следующие выводы:\n",
    "- учет дисбаланса классов в исходном датасете (и выборках, соответственно) позволяет улучшить качество моделей ML;\n",
    "- все возможные использованные методы приводят к улучшению качества моделей машинного обучения:\n",
    "    - взвешивание классов;\n",
    "    - увеличение обучающих выборок (upsampling);\n",
    "    - уменьшение обучающих выборок (downsampling);\n",
    "- модель случайного леса в данной задаче (классификатор/предиктор оттока клиентов банка с имеющимися признаками объектов в датасете) дает лучшие результаты, чем модель логистической регрессии.<br>\n",
    "\n",
    "В таблице ниже представлены значения F1-меры и AUC-ROC для ранее обученных моделей."
   ]
  },
  {
   "cell_type": "markdown",
   "metadata": {},
   "source": [
    "|         | Нсбл.ЛР | Нсбл.ЛР взвш. | Нсбл.СЛ | Up ЛР | Up ЛР взвш. | Up СЛ                      | Down ЛР | Down СЛ |\n",
    "|---------|---------|---------------|---------|-------|-------------|----------------------------|---------|---------|\n",
    "| F1-мера | 0.3154  | 0.4804        | 0.5951  | 0.4790| 0.4800      |**<font color=blue> 0.6474**| 0.4819  | 0.6074  |\n",
    "| AUC-ROC | 0.7560  | 0.7607        | 0.8458  | 0.7608| 0.7607      |**<font color=blue> 0.8587**| 0.7593  | 0.8572  |"
   ]
  },
  {
   "cell_type": "markdown",
   "metadata": {},
   "source": [
    "В таблице обозначениям соответствуют:\n",
    "- Нсбл. - несбалансированные данные;\n",
    "- ЛР - модель логистической регрессии;\n",
    "- СЛ - модель случайного леса;\n",
    "- взвш. - взвешенные классы (для модели ЛР);\n",
    "- Up - увеличенные выборки (upsampling);\n",
    "- Down - уменьшенные выборки (downsampling)."
   ]
  },
  {
   "cell_type": "markdown",
   "metadata": {},
   "source": [
    "Представленные результаты показывают, что наилучшие значения F1-меры и одновременно AUC-ROC (выделены полужирным шрифтом синего цвета в таблице) дает модель случайного леса при условии сбалансированности классов в обучающих выборках (методом upsampling - увеличения тех значений меток класса, которых в исходной выборке меньше, до приблизительно равного значения по объему меткам класса, которых в исходной выборке больше).<br>\n",
    "Можно переходить к финальному тестированию модели на тестовой выборке."
   ]
  },
  {
   "cell_type": "markdown",
   "metadata": {},
   "source": [
    "## Тестирование модели"
   ]
  },
  {
   "cell_type": "markdown",
   "metadata": {},
   "source": [
    "### Проверка наилучшей модели на тестовой выборке"
   ]
  },
  {
   "cell_type": "markdown",
   "metadata": {},
   "source": [
    "Выполним финальное тестирование выбранной модели, показавшей наилучшие результаты по итогам проведенных ранее работ, - модели случайного леса, обученной на сбалансированных данных."
   ]
  },
  {
   "cell_type": "code",
   "execution_count": 47,
   "metadata": {},
   "outputs": [
    {
     "name": "stdout",
     "output_type": "stream",
     "text": [
      "F1-мера: 0.6108998732572877\n",
      "Значение AUC-ROC: 0.8563879750320429\n"
     ]
    },
    {
     "data": {
      "image/png": "[encoded data removed]",
      "text/plain": [
       "<Figure size 288x216 with 1 Axes>"
      ]
     },
     "metadata": {
      "needs_background": "light"
     },
     "output_type": "display_data"
    }
   ],
   "source": [
    "# обучим модель случайного леса на сбалансированных данных\n",
    "# при найденных наилучших значения гиперпараметров\n",
    "model = RandomForestClassifier(n_estimators=104, max_depth=14, random_state=RANDOM_STATE_CONST)\n",
    "model.fit(features_upsampled, target_upsampled)\n",
    "\n",
    "predicted_test = model.predict(features_test) # прогнозные значения на тестовой выборке\n",
    "\n",
    "# построим ROC-кривую и вычислим AUC-ROC\n",
    "probabilities_one_test = model.predict_proba(features_test)[:, 1] # вероятности прогнозных значений класса \"1\"\n",
    "fpr, tpr, thresholds = roc_curve(target_test, probabilities_one_test) # данные для построения ROC-кривой\n",
    "\n",
    "plt.figure(figsize=(4, 3)) # подготовка к визуализации\n",
    "plt.step(fpr, tpr, where='post'), plt.grid() # визуализация ROC-кривой\n",
    "plt.plot([0, 1], [0, 1], linestyle='--'); # ROC-кривая случайной модели (выглядит как прямая)\n",
    "plt.xlim([0, 1]), plt.ylim([0, 1])\n",
    "plt.xlabel('False Positive Rate'), plt.ylabel('True Positive Rate')\n",
    "plt.title('ROC-кривая');\n",
    "\n",
    "auc_roc = roc_auc_score(target_test, probabilities_one_test) # вычисление AUC-ROC\n",
    "print('F1-мера:', f1_score(target_test, predicted_test)) # F1-мера\n",
    "print('Значение AUC-ROC:', auc_roc)"
   ]
  },
  {
   "cell_type": "markdown",
   "metadata": {},
   "source": [
    "### Выводы по разделу"
   ]
  },
  {
   "cell_type": "markdown",
   "metadata": {},
   "source": [
    "Проверка выбранной наилучшей модели (случайного леса) на сбалансированных данных (финальное тестирование модели), на отложенной тестовой выборке показала следующие результаты: F1-мера = 0.6109, AUC-ROC = 0.8564. Эти результаты не значительно хуже полученных ранее при проверке этой же модели на отложенной валидационной выборке (F1-мера = 0.6474, AUC-ROC = 0.8587), что говорит о состоятельности выбранной модели, о возможности применять ее в качестве модели-предиктора для решения поставленной задачи."
   ]
  },
  {
   "cell_type": "markdown",
   "metadata": {},
   "source": [
    "## Выводы"
   ]
  },
  {
   "cell_type": "markdown",
   "metadata": {},
   "source": [
    "По результатам проведенной работы была разработана модель машинного обучения (классификатор), предназначенная для прогноза оттока клиентов банка. Модель была построена на основе имеющегося датасета с историческими данными о поведении клиентов и расторжении договоров с банком.<br>\n",
    "Созданная модель была проверена на тестовой (отложенной) выборке и показала следующие значения метрик качества (на тестовой же выборке): F1-мера = 0.6109, AUC-ROC = 0.8564. Полученные значения позволяют сделать вывод о решении поставленной задачи (F1-мера превышает заданное значение 0.59), а ROC-кривая и значение AUC-ROC говорят о корректности настройки модели (она работает заведомо лучше случайного предиктора).<br>\n",
    "Для получения более высоких значений метрик качества, на наш взгляд, возможны, как минимум два пути:\n",
    "- апробирование других моделей ML (или DL) или ансамблей моделей;\n",
    "- работа с данными датасета (увеличение объема выборок, конструирование новых признаков, аугментация - насколько применимо, и т.п.).<br>\n",
    "\n",
    "Тем не менее, полученные результаты свидетельствуют о потенциальной возможности использовать построенную модель для прогноза оттока клиентов банка."
   ]
  },
  {
   "cell_type": "markdown",
   "metadata": {},
   "source": [
    "## Чек-лист готовности проекта"
   ]
  },
  {
   "cell_type": "markdown",
   "metadata": {},
   "source": [
    "Поставьте 'x' в выполненных пунктах. Далее нажмите Shift+Enter."
   ]
  },
  {
   "cell_type": "markdown",
   "metadata": {},
   "source": [
    "- [x]  Jupyter Notebook открыт\n",
    "- [x]  Весь код выполняется без ошибок\n",
    "- [x]  Ячейки с кодом расположены в порядке исполнения\n",
    "- [x]  Выполнен шаг 1: данные подготовлены\n",
    "- [x]  Выполнен шаг 2: задача исследована\n",
    "    - [x]  Исследован баланс классов\n",
    "    - [x]  Изучены модели без учёта дисбаланса\n",
    "    - [x]  Написаны выводы по результатам исследования\n",
    "- [x]  Выполнен шаг 3: учтён дисбаланс\n",
    "    - [x]  Применено несколько способов борьбы с дисбалансом\n",
    "    - [x]  Написаны выводы по результатам исследования\n",
    "- [x]  Выполнен шаг 4: проведено тестирование\n",
    "- [x]  Удалось достичь *F1*-меры не менее 0.59\n",
    "- [x]  Исследована метрика *AUC-ROC*"
   ]
  }
 ],
 "metadata": {
  "ExecuteTimeLog": [
   {
    "duration": 1253,
    "start_time": "2023-02-01T20:35:27.042Z"
   },
   {
    "duration": 163,
    "start_time": "2023-02-01T20:35:28.298Z"
   },
   {
    "duration": 0,
    "start_time": "2023-02-01T20:35:28.465Z"
   },
   {
    "duration": 0,
    "start_time": "2023-02-01T20:35:28.467Z"
   },
   {
    "duration": 0,
    "start_time": "2023-02-01T20:35:28.469Z"
   },
   {
    "duration": 0,
    "start_time": "2023-02-01T20:35:28.470Z"
   },
   {
    "duration": 0,
    "start_time": "2023-02-01T20:35:28.472Z"
   },
   {
    "duration": 0,
    "start_time": "2023-02-01T20:35:28.474Z"
   },
   {
    "duration": 0,
    "start_time": "2023-02-01T20:35:28.475Z"
   },
   {
    "duration": 0,
    "start_time": "2023-02-01T20:35:28.477Z"
   },
   {
    "duration": 0,
    "start_time": "2023-02-01T20:35:28.478Z"
   },
   {
    "duration": 0,
    "start_time": "2023-02-01T20:35:28.479Z"
   },
   {
    "duration": 0,
    "start_time": "2023-02-01T20:35:28.481Z"
   },
   {
    "duration": 0,
    "start_time": "2023-02-01T20:35:28.482Z"
   },
   {
    "duration": 0,
    "start_time": "2023-02-01T20:35:28.484Z"
   },
   {
    "duration": 0,
    "start_time": "2023-02-01T20:35:28.486Z"
   },
   {
    "duration": 0,
    "start_time": "2023-02-01T20:35:28.488Z"
   },
   {
    "duration": 0,
    "start_time": "2023-02-01T20:35:28.489Z"
   },
   {
    "duration": 0,
    "start_time": "2023-02-01T20:35:28.490Z"
   },
   {
    "duration": 0,
    "start_time": "2023-02-01T20:35:28.492Z"
   },
   {
    "duration": 0,
    "start_time": "2023-02-01T20:35:28.536Z"
   },
   {
    "duration": 0,
    "start_time": "2023-02-01T20:35:28.537Z"
   },
   {
    "duration": 0,
    "start_time": "2023-02-01T20:35:28.539Z"
   },
   {
    "duration": 0,
    "start_time": "2023-02-01T20:35:28.541Z"
   },
   {
    "duration": 0,
    "start_time": "2023-02-01T20:35:28.542Z"
   },
   {
    "duration": 0,
    "start_time": "2023-02-01T20:35:28.544Z"
   },
   {
    "duration": 0,
    "start_time": "2023-02-01T20:35:28.546Z"
   },
   {
    "duration": 0,
    "start_time": "2023-02-01T20:35:28.548Z"
   },
   {
    "duration": 0,
    "start_time": "2023-02-01T20:35:28.550Z"
   },
   {
    "duration": 0,
    "start_time": "2023-02-01T20:35:28.551Z"
   },
   {
    "duration": 0,
    "start_time": "2023-02-01T20:35:28.552Z"
   },
   {
    "duration": 0,
    "start_time": "2023-02-01T20:35:28.554Z"
   },
   {
    "duration": 0,
    "start_time": "2023-02-01T20:35:28.555Z"
   },
   {
    "duration": 0,
    "start_time": "2023-02-01T20:35:28.557Z"
   },
   {
    "duration": 0,
    "start_time": "2023-02-01T20:35:28.558Z"
   },
   {
    "duration": 0,
    "start_time": "2023-02-01T20:35:28.560Z"
   },
   {
    "duration": 0,
    "start_time": "2023-02-01T20:35:28.562Z"
   },
   {
    "duration": 0,
    "start_time": "2023-02-01T20:35:28.563Z"
   },
   {
    "duration": 0,
    "start_time": "2023-02-01T20:35:28.564Z"
   },
   {
    "duration": 0,
    "start_time": "2023-02-01T20:35:28.566Z"
   },
   {
    "duration": 0,
    "start_time": "2023-02-01T20:35:28.568Z"
   },
   {
    "duration": 0,
    "start_time": "2023-02-01T20:35:28.570Z"
   },
   {
    "duration": 1323,
    "start_time": "2023-02-01T20:37:25.119Z"
   },
   {
    "duration": 41,
    "start_time": "2023-02-01T20:37:26.444Z"
   },
   {
    "duration": 20,
    "start_time": "2023-02-01T20:37:26.488Z"
   },
   {
    "duration": 22,
    "start_time": "2023-02-01T20:37:26.510Z"
   },
   {
    "duration": 23,
    "start_time": "2023-02-01T20:37:26.534Z"
   },
   {
    "duration": 28,
    "start_time": "2023-02-01T20:37:26.559Z"
   },
   {
    "duration": 31,
    "start_time": "2023-02-01T20:37:26.589Z"
   },
   {
    "duration": 25,
    "start_time": "2023-02-01T20:37:26.622Z"
   },
   {
    "duration": 8,
    "start_time": "2023-02-01T20:37:26.649Z"
   },
   {
    "duration": 23,
    "start_time": "2023-02-01T20:37:26.658Z"
   },
   {
    "duration": 5,
    "start_time": "2023-02-01T20:37:26.683Z"
   },
   {
    "duration": 35,
    "start_time": "2023-02-01T20:37:26.690Z"
   },
   {
    "duration": 16,
    "start_time": "2023-02-01T20:37:26.726Z"
   },
   {
    "duration": 18,
    "start_time": "2023-02-01T20:37:26.745Z"
   },
   {
    "duration": 14,
    "start_time": "2023-02-01T20:37:26.765Z"
   },
   {
    "duration": 14,
    "start_time": "2023-02-01T20:37:26.781Z"
   },
   {
    "duration": 43,
    "start_time": "2023-02-01T20:37:26.796Z"
   },
   {
    "duration": 29,
    "start_time": "2023-02-01T20:37:26.841Z"
   },
   {
    "duration": 30,
    "start_time": "2023-02-01T20:37:26.872Z"
   },
   {
    "duration": 126,
    "start_time": "2023-02-01T20:37:26.903Z"
   },
   {
    "duration": 353,
    "start_time": "2023-02-01T20:37:27.031Z"
   },
   {
    "duration": 439,
    "start_time": "2023-02-01T20:37:27.386Z"
   },
   {
    "duration": 9380,
    "start_time": "2023-02-01T20:37:27.827Z"
   },
   {
    "duration": 43460,
    "start_time": "2023-02-01T20:37:37.209Z"
   },
   {
    "duration": 369,
    "start_time": "2023-02-01T20:38:20.671Z"
   },
   {
    "duration": 5,
    "start_time": "2023-02-01T20:38:21.042Z"
   },
   {
    "duration": 18,
    "start_time": "2023-02-01T20:38:21.048Z"
   },
   {
    "duration": 21,
    "start_time": "2023-02-01T20:38:21.068Z"
   },
   {
    "duration": 195,
    "start_time": "2023-02-01T20:38:21.091Z"
   },
   {
    "duration": 6,
    "start_time": "2023-02-01T20:38:21.288Z"
   },
   {
    "duration": 17,
    "start_time": "2023-02-01T20:38:21.296Z"
   },
   {
    "duration": 137,
    "start_time": "2023-02-01T20:38:21.316Z"
   },
   {
    "duration": 296,
    "start_time": "2023-02-01T20:38:21.455Z"
   },
   {
    "duration": 299,
    "start_time": "2023-02-01T20:38:21.753Z"
   },
   {
    "duration": 58542,
    "start_time": "2023-02-01T20:38:22.054Z"
   },
   {
    "duration": 59797,
    "start_time": "2023-02-01T20:39:20.598Z"
   },
   {
    "duration": 1205,
    "start_time": "2023-02-01T20:40:20.397Z"
   },
   {
    "duration": 340,
    "start_time": "2023-02-01T20:40:21.604Z"
   },
   {
    "duration": 24547,
    "start_time": "2023-02-01T20:40:21.945Z"
   },
   {
    "duration": 82828,
    "start_time": "2023-02-01T20:40:46.494Z"
   },
   {
    "duration": 815,
    "start_time": "2023-02-01T20:42:09.327Z"
   },
   {
    "duration": 1218,
    "start_time": "2023-02-01T20:42:10.143Z"
   },
   {
    "duration": 20,
    "start_time": "2023-02-01T20:59:02.535Z"
   },
   {
    "duration": 1600,
    "start_time": "2023-02-03T17:25:00.430Z"
   },
   {
    "duration": 3,
    "start_time": "2023-02-03T17:25:02.033Z"
   },
   {
    "duration": 171,
    "start_time": "2023-02-03T17:25:02.037Z"
   },
   {
    "duration": 0,
    "start_time": "2023-02-03T17:25:02.211Z"
   },
   {
    "duration": 0,
    "start_time": "2023-02-03T17:25:02.212Z"
   },
   {
    "duration": 0,
    "start_time": "2023-02-03T17:25:02.213Z"
   },
   {
    "duration": 0,
    "start_time": "2023-02-03T17:25:02.214Z"
   },
   {
    "duration": 0,
    "start_time": "2023-02-03T17:25:02.215Z"
   },
   {
    "duration": 0,
    "start_time": "2023-02-03T17:25:02.217Z"
   },
   {
    "duration": 0,
    "start_time": "2023-02-03T17:25:02.218Z"
   },
   {
    "duration": 0,
    "start_time": "2023-02-03T17:25:02.219Z"
   },
   {
    "duration": 0,
    "start_time": "2023-02-03T17:25:02.221Z"
   },
   {
    "duration": 0,
    "start_time": "2023-02-03T17:25:02.222Z"
   },
   {
    "duration": 0,
    "start_time": "2023-02-03T17:25:02.223Z"
   },
   {
    "duration": 0,
    "start_time": "2023-02-03T17:25:02.224Z"
   },
   {
    "duration": 0,
    "start_time": "2023-02-03T17:25:02.225Z"
   },
   {
    "duration": 0,
    "start_time": "2023-02-03T17:25:02.226Z"
   },
   {
    "duration": 0,
    "start_time": "2023-02-03T17:25:02.227Z"
   },
   {
    "duration": 0,
    "start_time": "2023-02-03T17:25:02.228Z"
   },
   {
    "duration": 0,
    "start_time": "2023-02-03T17:25:02.229Z"
   },
   {
    "duration": 0,
    "start_time": "2023-02-03T17:25:02.230Z"
   },
   {
    "duration": 0,
    "start_time": "2023-02-03T17:25:02.232Z"
   },
   {
    "duration": 0,
    "start_time": "2023-02-03T17:25:02.233Z"
   },
   {
    "duration": 0,
    "start_time": "2023-02-03T17:25:02.234Z"
   },
   {
    "duration": 0,
    "start_time": "2023-02-03T17:25:02.235Z"
   },
   {
    "duration": 0,
    "start_time": "2023-02-03T17:25:02.236Z"
   },
   {
    "duration": 0,
    "start_time": "2023-02-03T17:25:02.237Z"
   },
   {
    "duration": 0,
    "start_time": "2023-02-03T17:25:02.238Z"
   },
   {
    "duration": 0,
    "start_time": "2023-02-03T17:25:02.239Z"
   },
   {
    "duration": 0,
    "start_time": "2023-02-03T17:25:02.241Z"
   },
   {
    "duration": 0,
    "start_time": "2023-02-03T17:25:02.242Z"
   },
   {
    "duration": 0,
    "start_time": "2023-02-03T17:25:02.244Z"
   },
   {
    "duration": 0,
    "start_time": "2023-02-03T17:25:02.299Z"
   },
   {
    "duration": 0,
    "start_time": "2023-02-03T17:25:02.301Z"
   },
   {
    "duration": 0,
    "start_time": "2023-02-03T17:25:02.302Z"
   },
   {
    "duration": 0,
    "start_time": "2023-02-03T17:25:02.304Z"
   },
   {
    "duration": 0,
    "start_time": "2023-02-03T17:25:02.305Z"
   },
   {
    "duration": 0,
    "start_time": "2023-02-03T17:25:02.307Z"
   },
   {
    "duration": 0,
    "start_time": "2023-02-03T17:25:02.308Z"
   },
   {
    "duration": 0,
    "start_time": "2023-02-03T17:25:02.310Z"
   },
   {
    "duration": 0,
    "start_time": "2023-02-03T17:25:02.311Z"
   },
   {
    "duration": 0,
    "start_time": "2023-02-03T17:25:02.313Z"
   },
   {
    "duration": 1293,
    "start_time": "2023-02-03T17:25:35.730Z"
   },
   {
    "duration": 3,
    "start_time": "2023-02-03T17:25:37.026Z"
   },
   {
    "duration": 91,
    "start_time": "2023-02-03T17:25:37.030Z"
   },
   {
    "duration": 21,
    "start_time": "2023-02-03T17:25:37.123Z"
   },
   {
    "duration": 17,
    "start_time": "2023-02-03T17:25:37.147Z"
   },
   {
    "duration": 16,
    "start_time": "2023-02-03T17:25:37.166Z"
   },
   {
    "duration": 8,
    "start_time": "2023-02-03T17:25:37.183Z"
   },
   {
    "duration": 9,
    "start_time": "2023-02-03T17:25:37.193Z"
   },
   {
    "duration": 14,
    "start_time": "2023-02-03T17:25:37.204Z"
   },
   {
    "duration": 5,
    "start_time": "2023-02-03T17:25:37.220Z"
   },
   {
    "duration": 14,
    "start_time": "2023-02-03T17:25:37.226Z"
   },
   {
    "duration": 10,
    "start_time": "2023-02-03T17:25:37.241Z"
   },
   {
    "duration": 4,
    "start_time": "2023-02-03T17:25:37.253Z"
   },
   {
    "duration": 8,
    "start_time": "2023-02-03T17:25:37.259Z"
   },
   {
    "duration": 7,
    "start_time": "2023-02-03T17:25:37.268Z"
   },
   {
    "duration": 129,
    "start_time": "2023-02-03T17:25:37.277Z"
   },
   {
    "duration": 0,
    "start_time": "2023-02-03T17:25:37.407Z"
   },
   {
    "duration": 0,
    "start_time": "2023-02-03T17:25:37.408Z"
   },
   {
    "duration": 0,
    "start_time": "2023-02-03T17:25:37.410Z"
   },
   {
    "duration": 0,
    "start_time": "2023-02-03T17:25:37.410Z"
   },
   {
    "duration": 0,
    "start_time": "2023-02-03T17:25:37.411Z"
   },
   {
    "duration": 0,
    "start_time": "2023-02-03T17:25:37.412Z"
   },
   {
    "duration": 0,
    "start_time": "2023-02-03T17:25:37.413Z"
   },
   {
    "duration": 0,
    "start_time": "2023-02-03T17:25:37.414Z"
   },
   {
    "duration": 0,
    "start_time": "2023-02-03T17:25:37.415Z"
   },
   {
    "duration": 0,
    "start_time": "2023-02-03T17:25:37.416Z"
   },
   {
    "duration": 0,
    "start_time": "2023-02-03T17:25:37.417Z"
   },
   {
    "duration": 0,
    "start_time": "2023-02-03T17:25:37.418Z"
   },
   {
    "duration": 0,
    "start_time": "2023-02-03T17:25:37.419Z"
   },
   {
    "duration": 0,
    "start_time": "2023-02-03T17:25:37.420Z"
   },
   {
    "duration": 0,
    "start_time": "2023-02-03T17:25:37.421Z"
   },
   {
    "duration": 0,
    "start_time": "2023-02-03T17:25:37.422Z"
   },
   {
    "duration": 0,
    "start_time": "2023-02-03T17:25:37.423Z"
   },
   {
    "duration": 0,
    "start_time": "2023-02-03T17:25:37.424Z"
   },
   {
    "duration": 0,
    "start_time": "2023-02-03T17:25:37.425Z"
   },
   {
    "duration": 0,
    "start_time": "2023-02-03T17:25:37.426Z"
   },
   {
    "duration": 0,
    "start_time": "2023-02-03T17:25:37.427Z"
   },
   {
    "duration": 0,
    "start_time": "2023-02-03T17:25:37.428Z"
   },
   {
    "duration": 0,
    "start_time": "2023-02-03T17:25:37.429Z"
   },
   {
    "duration": 0,
    "start_time": "2023-02-03T17:25:37.430Z"
   },
   {
    "duration": 0,
    "start_time": "2023-02-03T17:25:37.431Z"
   },
   {
    "duration": 0,
    "start_time": "2023-02-03T17:25:37.432Z"
   },
   {
    "duration": 15,
    "start_time": "2023-02-03T17:26:28.089Z"
   },
   {
    "duration": 15,
    "start_time": "2023-02-03T17:26:51.589Z"
   },
   {
    "duration": 10,
    "start_time": "2023-02-03T17:26:54.669Z"
   },
   {
    "duration": 22,
    "start_time": "2023-02-03T17:27:03.400Z"
   },
   {
    "duration": 38,
    "start_time": "2023-02-03T17:27:17.549Z"
   },
   {
    "duration": 18,
    "start_time": "2023-02-03T17:27:23.229Z"
   },
   {
    "duration": 4,
    "start_time": "2023-02-03T18:57:38.049Z"
   },
   {
    "duration": 5,
    "start_time": "2023-02-03T18:57:41.801Z"
   },
   {
    "duration": 7,
    "start_time": "2023-02-03T18:57:57.349Z"
   },
   {
    "duration": 1451,
    "start_time": "2023-02-03T19:00:21.626Z"
   },
   {
    "duration": 3,
    "start_time": "2023-02-03T19:00:23.079Z"
   },
   {
    "duration": 43,
    "start_time": "2023-02-03T19:00:23.083Z"
   },
   {
    "duration": 20,
    "start_time": "2023-02-03T19:00:23.128Z"
   },
   {
    "duration": 26,
    "start_time": "2023-02-03T19:00:23.149Z"
   },
   {
    "duration": 4,
    "start_time": "2023-02-03T19:00:23.177Z"
   },
   {
    "duration": 12,
    "start_time": "2023-02-03T19:00:23.182Z"
   },
   {
    "duration": 6,
    "start_time": "2023-02-03T19:00:23.196Z"
   },
   {
    "duration": 15,
    "start_time": "2023-02-03T19:00:23.204Z"
   },
   {
    "duration": 6,
    "start_time": "2023-02-03T19:00:23.222Z"
   },
   {
    "duration": 14,
    "start_time": "2023-02-03T19:00:23.230Z"
   },
   {
    "duration": 9,
    "start_time": "2023-02-03T19:00:23.246Z"
   },
   {
    "duration": 7,
    "start_time": "2023-02-03T19:00:23.257Z"
   },
   {
    "duration": 26,
    "start_time": "2023-02-03T19:00:23.265Z"
   },
   {
    "duration": 24,
    "start_time": "2023-02-03T19:00:23.292Z"
   },
   {
    "duration": 23,
    "start_time": "2023-02-03T19:00:23.318Z"
   },
   {
    "duration": 13,
    "start_time": "2023-02-03T19:00:23.342Z"
   },
   {
    "duration": 30,
    "start_time": "2023-02-03T19:00:23.357Z"
   },
   {
    "duration": 3,
    "start_time": "2023-02-03T19:00:23.388Z"
   },
   {
    "duration": 21,
    "start_time": "2023-02-03T19:00:23.393Z"
   },
   {
    "duration": 118,
    "start_time": "2023-02-03T19:00:23.416Z"
   },
   {
    "duration": 383,
    "start_time": "2023-02-03T19:00:23.536Z"
   },
   {
    "duration": 367,
    "start_time": "2023-02-03T19:00:23.922Z"
   },
   {
    "duration": 637322,
    "start_time": "2023-02-03T19:00:24.298Z"
   },
   {
    "duration": 52518,
    "start_time": "2023-02-03T19:11:01.622Z"
   },
   {
    "duration": 479,
    "start_time": "2023-02-03T19:11:54.142Z"
   },
   {
    "duration": 4,
    "start_time": "2023-02-03T19:11:54.622Z"
   },
   {
    "duration": 15,
    "start_time": "2023-02-03T19:11:54.629Z"
   },
   {
    "duration": 125,
    "start_time": "2023-02-03T19:11:54.646Z"
   },
   {
    "duration": 5,
    "start_time": "2023-02-03T19:11:54.773Z"
   },
   {
    "duration": 28,
    "start_time": "2023-02-03T19:11:54.779Z"
   },
   {
    "duration": 115,
    "start_time": "2023-02-03T19:11:54.809Z"
   },
   {
    "duration": 286,
    "start_time": "2023-02-03T19:11:54.925Z"
   },
   {
    "duration": 289,
    "start_time": "2023-02-03T19:11:55.214Z"
   },
   {
    "duration": 858224,
    "start_time": "2023-02-03T19:11:55.511Z"
   },
   {
    "duration": 169577,
    "start_time": "2023-02-03T19:26:13.737Z"
   },
   {
    "duration": 1130,
    "start_time": "2023-02-03T19:29:03.315Z"
   },
   {
    "duration": 260,
    "start_time": "2023-02-03T19:29:04.446Z"
   },
   {
    "duration": 355842,
    "start_time": "2023-02-03T19:29:04.714Z"
   },
   {
    "duration": 114188,
    "start_time": "2023-02-03T19:35:00.557Z"
   },
   {
    "duration": 694,
    "start_time": "2023-02-03T19:36:54.747Z"
   },
   {
    "duration": 1072,
    "start_time": "2023-02-03T19:36:55.443Z"
   }
  ],
  "celltoolbar": "Необработанный формат ячейки",
  "kernelspec": {
   "display_name": "Python 3 (ipykernel)",
   "language": "python",
   "name": "python3"
  },
  "language_info": {
   "codemirror_mode": {
    "name": "ipython",
    "version": 3
   },
   "file_extension": ".py",
   "mimetype": "text/x-python",
   "name": "python",
   "nbconvert_exporter": "python",
   "pygments_lexer": "ipython3",
   "version": "3.9.12"
  },
  "toc": {
   "base_numbering": 1,
   "nav_menu": {},
   "number_sections": true,
   "sideBar": true,
   "skip_h1_title": true,
   "title_cell": "Содержание",
   "title_sidebar": "Contents",
   "toc_cell": true,
   "toc_position": {
    "height": "calc(100% - 180px)",
    "left": "10px",
    "top": "150px",
    "width": "256px"
   },
   "toc_section_display": true,
   "toc_window_display": true
  }
 },
 "nbformat": 4,
 "nbformat_minor": 2
}
